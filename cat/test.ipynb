{
 "cells": [
  {
   "cell_type": "markdown",
   "id": "9e0b091e",
   "metadata": {},
   "source": [
    "CAT 1"
   ]
  },
  {
   "cell_type": "markdown",
   "id": "a05f0e09",
   "metadata": {},
   "source": [
    "Question 1:\n",
    "\n",
    "a)Implement a Python function that performs gradient descent to minimize this function. \n",
    "The function should take as parameters: - the initial guess x0, - learning rate alpha, - and number of iterations n. \n",
    "The function should return the list of x-values and f(x)-values for each iteration. [10 \n",
    "Marks]"
   ]
  },
  {
   "cell_type": "code",
   "execution_count": 16,
   "id": "48490c85",
   "metadata": {},
   "outputs": [
    {
     "name": "stdout",
     "output_type": "stream",
     "text": [
      "X values: [10.0, 8.0, 6.4, 5.12, 4.096, 3.2768, 2.62144, 2.0971520000000003, 1.6777216000000004, 1.3421772800000003, 1.0737418240000003, 0.8589934592000003, 0.6871947673600002, 0.5497558138880001, 0.43980465111040007, 0.35184372088832006, 0.281474976710656, 0.22517998136852482, 0.18014398509481985, 0.14411518807585588, 0.11529215046068471]\n",
      "Function values: [100.0, 64.0, 40.96000000000001, 26.2144, 16.777216, 10.73741824, 6.871947673600001, 4.398046511104002, 2.8147497671065613, 1.801439850948199, 1.1529215046068475, 0.7378697629483825, 0.47223664828696477, 0.3022314549036574, 0.19342813113834073, 0.12379400392853807, 0.07922816251426434, 0.050706024009129186, 0.03245185536584268, 0.020769187434139313, 0.013292279957849162]\n"
     ]
    }
   ],
   "source": [
    "def gradient_descent(func, deriv, x0, alpha, n):\n",
    "    x_values, f_values = [x0], [func(x0)]\n",
    "\n",
    "    for _ in range(n):\n",
    "        x0 -= alpha * deriv(x0)\n",
    "        x_values.append(x0)\n",
    "        f_values.append(func(x0))\n",
    "\n",
    "    return x_values, f_values\n",
    "\n",
    "# Example usage:\n",
    "if __name__ == \"__main__\":\n",
    "    def func(x): return x**2\n",
    "    def deriv(x): return 2 * x\n",
    "\n",
    "    x_vals, f_vals = gradient_descent(func, deriv, x0=10.0, alpha=0.1, n=20)\n",
    "    print(\"X values:\", x_vals)\n",
    "    print(\"Function values:\", f_vals)\n"
   ]
  },
  {
   "cell_type": "markdown",
   "id": "edc52b13",
   "metadata": {},
   "source": [
    "b) Run your function with x0 = 2, alpha = 0.1, and n = 10. Present the output as a table \n",
    "with columns: iteration, x-value, f(x)-value."
   ]
  },
  {
   "cell_type": "code",
   "execution_count": 17,
   "id": "9beb8acf",
   "metadata": {},
   "outputs": [
    {
     "name": "stdout",
     "output_type": "stream",
     "text": [
      "Iteration |   x-value   |   f(x)-value\n",
      "    0     |   2.000000   |   4.000000\n",
      "    1     |   1.600000   |   2.560000\n",
      "    2     |   1.280000   |   1.638400\n",
      "    3     |   1.024000   |   1.048576\n",
      "    4     |   0.819200   |   0.671089\n",
      "    5     |   0.655360   |   0.429497\n",
      "    6     |   0.524288   |   0.274878\n",
      "    7     |   0.419430   |   0.175922\n",
      "    8     |   0.335544   |   0.112590\n",
      "    9     |   0.268435   |   0.072058\n",
      "    10     |   0.214748   |   0.046117\n"
     ]
    }
   ],
   "source": [
    "def gradient_descent(func, deriv, x0, alpha, n):\n",
    "    x_values, f_values = [x0], [func(x0)]\n",
    "\n",
    "    for _ in range(n):\n",
    "        x0 -= alpha * deriv(x0)\n",
    "        x_values.append(x0)\n",
    "        f_values.append(func(x0))\n",
    "\n",
    "    return x_values, f_values\n",
    "\n",
    "def print_table(x_vals, f_vals):\n",
    "    print(\"Iteration |   x-value   |   f(x)-value\")\n",
    "    for i, (x, fx) in enumerate(zip(x_vals, f_vals)):\n",
    "        print(f\"    {i}     |   {x:.6f}   |   {fx:.6f}\")\n",
    "\n",
    "# Example usage:\n",
    "if __name__ == \"__main__\":\n",
    "    def func(x): return x**2\n",
    "    def deriv(x): return 2 * x\n",
    "\n",
    "    x_vals, f_vals = gradient_descent(func, deriv, x0=2.0, alpha=0.1, n=10)\n",
    "    print_table(x_vals, f_vals)\n"
   ]
  },
  {
   "cell_type": "markdown",
   "id": "c76c44f1",
   "metadata": {},
   "source": [
    "c) Explain what would happen if the learning rate were set to 1 instead of 0.1, using \n",
    "insights from your code and outputs.    "
   ]
  },
  {
   "cell_type": "markdown",
   "id": "753c194d",
   "metadata": {},
   "source": [
    "If the learning rate is set to 1, the algorithm will oscillate without converging because the update step becomes \n",
    "x_new = -x_old, causing the values to alternate between positive and negative without reducing in magnitude."
   ]
  },
  {
   "cell_type": "markdown",
   "id": "60333b4b",
   "metadata": {},
   "source": [
    "Question 2: \n",
    "\n",
    "A researcher is modeling a simple electrical circuit where: - 2I1 + 3I2 = 8 (KVL Equation 1) - 5I1 + 7I2 = 19 (KVL Equation 2) \n",
    "a) Formulate this system of equations as a matrix problem and solve it using NumPy in \n",
    "Python.  "
   ]
  },
  {
   "cell_type": "code",
   "execution_count": 18,
   "id": "9fc010e0",
   "metadata": {},
   "outputs": [
    {
     "name": "stdout",
     "output_type": "stream",
     "text": [
      "Iteration |   x-value   |   f(x)-value\n",
      "    0     |   2.000000   |   4.000000\n",
      "    1     |   1.600000   |   2.560000\n",
      "    2     |   1.280000   |   1.638400\n",
      "    3     |   1.024000   |   1.048576\n",
      "    4     |   0.819200   |   0.671089\n",
      "    5     |   0.655360   |   0.429497\n",
      "    6     |   0.524288   |   0.274878\n",
      "    7     |   0.419430   |   0.175922\n",
      "    8     |   0.335544   |   0.112590\n",
      "    9     |   0.268435   |   0.072058\n",
      "    10     |   0.214748   |   0.046117\n",
      "Solution (I1, I2): [1. 2.]\n"
     ]
    }
   ],
   "source": [
    "import numpy as np\n",
    "\n",
    "def gradient_descent(func, deriv, x0, alpha, n):\n",
    "    x_values, f_values = [x0], [func(x0)]\n",
    "\n",
    "    for _ in range(n):\n",
    "        x0 -= alpha * deriv(x0)\n",
    "        x_values.append(x0)\n",
    "        f_values.append(func(x0))\n",
    "\n",
    "    return x_values, f_values\n",
    "\n",
    "#Table Function\n",
    "def print_table(x_vals, f_vals):\n",
    "    print(\"Iteration |   x-value   |   f(x)-value\")\n",
    "    for i, (x, fx) in enumerate(zip(x_vals, f_vals)):\n",
    "        print(f\"    {i}     |   {x:.6f}   |   {fx:.6f}\")\n",
    "\n",
    "#Linear System\n",
    "def solve_linear_system():\n",
    "    A = np.array([[2, 3], [5, 7]])\n",
    "    B = np.array([8, 19])\n",
    "    solution = np.linalg.solve(A, B)\n",
    "    print(\"Solution (I1, I2):\", solution)\n",
    "\n",
    "# Example for Gradient Descent\n",
    "if __name__ == \"__main__\":\n",
    "    def func(x): return x**2\n",
    "    def deriv(x): return 2 * x\n",
    "\n",
    "    x_vals, f_vals = gradient_descent(func, deriv, x0=2.0, alpha=0.1, n=10)\n",
    "    print_table(x_vals, f_vals)\n",
    "    solve_linear_system()\n"
   ]
  },
  {
   "cell_type": "markdown",
   "id": "018daf78",
   "metadata": {},
   "source": [
    "b) Modify your code to read the coefficients and constants from a `.txt` file that has the \n",
    "system in this format: \n",
    "2 3 8 \n",
    "5 7 19 \n",
    "Write code to parse the file and solve the system. [8 Marks]"
   ]
  },
  {
   "cell_type": "code",
   "execution_count": null,
   "id": "9b91de5c",
   "metadata": {},
   "outputs": [],
   "source": [
    "import numpy as np\n",
    "\n",
    "# Gradient Descent Function\n",
    "def gradient_descent(func, deriv, x0, alpha, n):\n",
    "    x_values, f_values = [x0], [func(x0)]\n",
    "\n",
    "    for _ in range(n):\n",
    "        x0 -= alpha * deriv(x0)\n",
    "        x_values.append(x0)\n",
    "        f_values.append(func(x0))\n",
    "\n",
    "    return x_values, f_values\n",
    "\n",
    "# Print Table Function\n",
    "def print_table(x_vals, f_vals):\n",
    "    print(\"Iteration |   x-value   |   f(x)-value\")\n",
    "    for i, (x, fx) in enumerate(zip(x_vals, f_vals)):\n",
    "        print(f\"    {i}     |   {x:.6f}   |   {fx:.6f}\")\n",
    "\n",
    "# Read System from File and Solve\n",
    "def read_and_solve(filename):\n",
    "    with open(filename, 'r') as file:\n",
    "        lines = file.readlines()\n",
    "        matrix = [list(map(float, line.split())) for line in lines]\n",
    "\n",
    "        A = np.array([row[:-1] for row in matrix])\n",
    "        B = np.array([row[-1] for row in matrix])\n",
    "    solution = np.linalg.solve(A, B)\n",
    "    print(\"Solution (I1, I2):\", solution)\n",
    "    \n",
    "# Example for Gradient Descent\n",
    "def func(x): return x**2\n",
    "def deriv(x): return 2 * x\n",
    "\n",
    "x_vals, f_vals = gradient_descent(func, deriv, x0=2.0, alpha=0.1, n=10)\n",
    "print_table(x_vals, f_vals)\n",
    "\n",
    "# Solve the linear system from file\n",
    "print(\"\\nReading from file and solving linear system:\")\n",
    "read_and_solve('system.txt')\n"
   ]
  },
  {
   "cell_type": "markdown",
   "id": "d8f57b02",
   "metadata": {},
   "source": [
    "c) Explain one real-world implication if the matrix of coefficients were nearly singular. \n",
    "How would that affect the solution, and what could you do about it computationally? [6 \n",
    "Marks] "
   ]
  },
  {
   "cell_type": "markdown",
   "id": "26f70e99",
   "metadata": {},
   "source": [
    "Implications:\n",
    "Numerical Instability:\n",
    "When the matrix is nearly singular, small changes in the input can lead to large changes in the output. This can make the solution highly sensitive to rounding errors or small inaccuracies in the data.\n",
    "\n",
    "Unreliable Solution:\n",
    "In such cases, the system may produce a solution that is either undefined or highly inaccurate. The matrix might be \"ill-conditioned,\" meaning small perturbations in the coefficients can result in disproportionate changes in the solution.\n",
    "\n",
    "Computational Remedies:\n",
    "Regularization:\n",
    "Adding a small constant to the diagonal of the matrix (like in Ridge Regression) can help make the matrix more stable by increasing its condition number.\n",
    "\n",
    "Use of Pseudo-Inverse:\n",
    "If the matrix is nearly singular but still solvable, using the Moore-Penrose pseudo-inverse (through np.linalg.pinv) instead of np.linalg.solve can provide a more stable solution, especially in the case of an underdetermined or nearly singular system.\n",
    "\n",
    "Refined Numerical Methods:\n",
    "Use specialized algorithms like Singular Value Decomposition (SVD) to handle ill-conditioned systems, which can give better insight into the behavior of the system even if the matrix is nearly singular."
   ]
  },
  {
   "cell_type": "markdown",
   "id": "3b6c70c5",
   "metadata": {},
   "source": [
    "Question 3:\n",
    "\n",
    "Given a file data.csv with two columns: Time (s) and Temperature (°C), your task is to \n",
    "analyze a heat transfer process. \n",
    "a) Write a Python script that: - reads the data using pandas, - plots a line graph of temperature vs time, - and adds labels, title, and grid.   "
   ]
  },
  {
   "cell_type": "code",
   "execution_count": 21,
   "id": "5012b2ba",
   "metadata": {},
   "outputs": [
    {
     "data": {
      "image/png": "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",
      "text/plain": [
       "<Figure size 640x480 with 1 Axes>"
      ]
     },
     "metadata": {},
     "output_type": "display_data"
    }
   ],
   "source": [
    "import pandas as pd\n",
    "import matplotlib.pyplot as plt\n",
    "\n",
    "# Read the data from the CSV file\n",
    "data = pd.read_csv('data.csv')\n",
    "\n",
    "# Plotting the graph\n",
    "plt.plot(data['Time (s)'], data['Temperature (°C)'], label='Temperature vs Time', color='b')\n",
    "\n",
    "# Adding labels and title\n",
    "plt.xlabel('Time (s)')\n",
    "plt.ylabel('Temperature (°C)')\n",
    "plt.title('Heat Transfer Process: Temperature vs Time')\n",
    "\n",
    "# Adding a grid\n",
    "plt.grid(True)\n",
    "\n",
    "# Display the plot\n",
    "plt.show()\n"
   ]
  },
  {
   "cell_type": "markdown",
   "id": "68f24498",
   "metadata": {},
   "source": [
    "b) Based on your graph, explain any two observations you can make about the heating \n",
    "process (e.g., steady state, rate of change).    "
   ]
  },
  {
   "cell_type": "markdown",
   "id": "33af5d60",
   "metadata": {},
   "source": [
    "1.Approach to Steady State:\n",
    "As time progresses, the temperature might approach a certain value and stabilize. This indicates that the system is nearing a steady state, where the rate of heat transfer into the object equals the rate of heat loss, causing the temperature to no longer increase significantly.\n",
    "\n",
    "2.Rate of Change:\n",
    "Initially, the temperature may increase at a faster rate, but as the system approaches the steady state, the rate of change of temperature (i.e., the slope of the graph) may slow down. This is typical in heat transfer processes where the temperature rise is faster at the beginning, and it slows down as the system approaches its final temperature."
   ]
  },
  {
   "cell_type": "markdown",
   "id": "03f85168",
   "metadata": {},
   "source": [
    "c) Describe a situation in engineering where such visualization can be used to influence \n",
    "decision-making. "
   ]
  },
  {
   "cell_type": "markdown",
   "id": "42d1073f",
   "metadata": {},
   "source": [
    "In electronics cooling design, a Temperature vs. Time graph can help engineers:\n",
    "\n",
    "1.Optimize Cooling Systems: If the temperature rises too quickly, the graph prompts decisions to improve cooling, such as upgrading heatsinks or airflow.\n",
    "\n",
    "2.Ensure Component Longevity: If the system takes too long to stabilize or reaches high temperatures, engineers might redesign cooling solutions to prevent overheating and extend the life of components.\n",
    "\n",
    "This visualization supports data-driven decisions to improve performance and durability."
   ]
  },
  {
   "cell_type": "markdown",
   "id": "7f0af6f0",
   "metadata": {},
   "source": [
    "Question 4\n",
    "\n",
    "You are simulating population growth using the differential equation dy/dt = 0.5y, where \n",
    "y(0) = 100. \n",
    "a) Use Euler’s Method to approximate the population size after 4 time steps with step size \n",
    "h = 0.5. Show all computations.  "
   ]
  },
  {
   "cell_type": "code",
   "execution_count": 19,
   "id": "299eec82",
   "metadata": {},
   "outputs": [
    {
     "name": "stdout",
     "output_type": "stream",
     "text": [
      "Time Step | Population Size\n",
      "      0.0  |    100.000000\n",
      "      0.5  |    125.000000\n",
      "      1.0  |    156.250000\n",
      "      1.5  |    195.312500\n",
      "      2.0  |    244.140625\n"
     ]
    }
   ],
   "source": [
    "def euler_method(dy_dt, y0, h, steps):\n",
    "    y = y0\n",
    "    results = [(0, y)]  # Store initial time and value\n",
    "    for i in range(steps):\n",
    "        y += h * dy_dt(y)  # Euler's method update\n",
    "        results.append((i+1, y))  # Store the result at each step\n",
    "    return results\n",
    "\n",
    "# Differential equation dy/dt = 0.5y\n",
    "def dy_dt(y):\n",
    "    return 0.5 * y\n",
    "\n",
    "# Initial conditions\n",
    "y0 = 100\n",
    "h = 0.5\n",
    "steps = 4\n",
    "\n",
    "# Apply Euler's method\n",
    "results = euler_method(dy_dt, y0, h, steps)\n",
    "\n",
    "print(\"Time Step | Population Size\")\n",
    "for t, y in results:\n",
    "    print(f\"   {t*0.5:6.1f}  |    {y:.6f}\")\n"
   ]
  },
  {
   "cell_type": "markdown",
   "id": "76967e65",
   "metadata": {},
   "source": [
    "b) Write a Python function that generalizes the Euler’s method to solve any first-order \n",
    "ODE given f(t, y), initial condition, step size, and number of steps. "
   ]
  },
  {
   "cell_type": "code",
   "execution_count": 20,
   "id": "378e5017",
   "metadata": {},
   "outputs": [
    {
     "name": "stdout",
     "output_type": "stream",
     "text": [
      "Time Step | Population Size\n",
      "      0.0  |    100.000000\n",
      "      0.5  |    125.000000\n",
      "      1.0  |    156.250000\n",
      "      1.5  |    195.312500\n",
      "      2.0  |    244.140625\n"
     ]
    }
   ],
   "source": [
    "#Euler's Method to solve any first-order ODE\n",
    "def euler_method_general(f, y0, t0, h, steps):\n",
    "    t = t0\n",
    "    y = y0\n",
    "    results = [(t, y)] \n",
    "\n",
    "    for _ in range(steps):\n",
    "        y += h * f(t, y)  \n",
    "        t += h  # Increment time\n",
    "        results.append((t, y))  # Store the result at each step\n",
    "\n",
    "    return results\n",
    "\n",
    "def f(t, y):\n",
    "    return 0.5 * y\n",
    "\n",
    "y0 = 100  # Initial population size\n",
    "t0 = 0    # Initial time\n",
    "h = 0.5   # Step size\n",
    "steps = 4 # Number of steps\n",
    "\n",
    "# Apply Euler's method\n",
    "results = euler_method_general(f, y0, t0, h, steps)\n",
    "\n",
    "print(\"Time Step | Population Size\")\n",
    "for t, y in results:\n",
    "    print(f\"   {t:6.1f}  |    {y:.6f}\")\n"
   ]
  },
  {
   "cell_type": "markdown",
   "id": "87a80ca2",
   "metadata": {},
   "source": [
    "c) Briefly explain two limitations of using Euler’s Method for real-world systems, and \n",
    "suggest one alternative method.  "
   ]
  },
  {
   "cell_type": "markdown",
   "id": "6f9cad4c",
   "metadata": {},
   "source": [
    "Limitations of Euler’s Method:\n",
    "\n",
    "1.Inaccuracy for Large Step Sizes:\n",
    "Euler’s method can be inaccurate when the step size ℎ is large. The method approximates the solution with linear steps, which can lead to significant errors, especially for stiff or highly nonlinear systems. As the step size increases, the errors accumulate and can cause the solution to deviate considerably from the true behavior.\n",
    "\n",
    "2.Instability in Stiff Equations:\n",
    "Euler's method can become unstable for certain stiff differential equations, where there are rapidly changing and slowly changing components. The method may not capture the behavior accurately, leading to divergence or oscillations in the numerical solution.\n",
    "\n",
    "Suggested Alternative Method:\n",
    "Runge-Kutta Method (RK4):\n",
    "\n",
    "The Runge-Kutta method (specifically the 4th-order method, RK4) is a more accurate and stable alternative to Euler’s method. It uses multiple intermediate points to estimate the solution, providing better precision with the same step size. It is widely used in real-world systems because it balances accuracy and computational efficiency."
   ]
  }
 ],
 "metadata": {
  "kernelspec": {
   "display_name": "cat-DvnkmqK3",
   "language": "python",
   "name": "python3"
  },
  "language_info": {
   "codemirror_mode": {
    "name": "ipython",
    "version": 3
   },
   "file_extension": ".py",
   "mimetype": "text/x-python",
   "name": "python",
   "nbconvert_exporter": "python",
   "pygments_lexer": "ipython3",
   "version": "3.10.12"
  }
 },
 "nbformat": 4,
 "nbformat_minor": 5
}

{
 "cells": [
  {
   "cell_type": "markdown",
   "id": "cd03c783",
   "metadata": {},
   "source": [
    "CAT 1"
   ]
  },
  {
   "cell_type": "markdown",
   "id": "a4be3dc1",
   "metadata": {},
   "source": [
    "a) Implement a Python function that performs gradient descent to minimize this function.\n",
    "The function should take as parameters: - the initial guess x0, - learning rate alpha, - and number of iterations n.\n",
    "The function should return the list of x-values and f(x)-values for each iteration. \\[10\n",
    "Marks]\n"
   ]
  },
  {
   "cell_type": "code",
   "execution_count": 26,
   "id": "66557b07",
   "metadata": {},
   "outputs": [
    {
     "name": "stdout",
     "output_type": "stream",
     "text": [
      "Iteration 0: x = 10.000000, f(x) = 49.000000\n",
      "Iteration 1: x = 8.600000, f(x) = 31.360000\n",
      "Iteration 2: x = 7.480000, f(x) = 20.070400\n",
      "Iteration 3: x = 6.584000, f(x) = 12.845056\n",
      "Iteration 4: x = 5.867200, f(x) = 8.220836\n",
      "Iteration 5: x = 5.293760, f(x) = 5.261335\n",
      "Iteration 6: x = 4.835008, f(x) = 3.367254\n",
      "Iteration 7: x = 4.468006, f(x) = 2.155043\n",
      "Iteration 8: x = 4.174405, f(x) = 1.379227\n",
      "Iteration 9: x = 3.939524, f(x) = 0.882706\n",
      "Iteration 10: x = 3.751619, f(x) = 0.564932\n",
      "Iteration 11: x = 3.601295, f(x) = 0.361556\n",
      "Iteration 12: x = 3.481036, f(x) = 0.231396\n",
      "Iteration 13: x = 3.384829, f(x) = 0.148093\n",
      "Iteration 14: x = 3.307863, f(x) = 0.094780\n",
      "Iteration 15: x = 3.246291, f(x) = 0.060659\n",
      "Iteration 16: x = 3.197032, f(x) = 0.038822\n",
      "Iteration 17: x = 3.157626, f(x) = 0.024846\n",
      "Iteration 18: x = 3.126101, f(x) = 0.015901\n",
      "Iteration 19: x = 3.100881, f(x) = 0.010177\n",
      "Iteration 20: x = 3.080705, f(x) = 0.006513\n"
     ]
    }
   ],
   "source": [
    "def gradient_descent(f, f_prime, x0, alpha, n):\n",
    "    # Initialize the lists to store the x-values and f(x)-values for each iteration\n",
    "    x_values = [x0]\n",
    "    f_values = [f(x0)]\n",
    "    \n",
    "    # Perform the gradient descent for n iterations\n",
    "    x = x0\n",
    "    for i in range(n):\n",
    "        # Update the value of x using the gradient descent update rule\n",
    "        x = x - alpha * f_prime(x)\n",
    "        \n",
    "        # Store the updated x and f(x)\n",
    "        x_values.append(x)\n",
    "        f_values.append(f(x))\n",
    "    \n",
    "    return x_values, f_values\n",
    "\n",
    "# Define the function f(x) and its derivative f'(x)\n",
    "def f(x):\n",
    "    return x**2 - 6*x + 9\n",
    "\n",
    "def f_prime(x):\n",
    "    return 2*x - 6\n",
    "\n",
    "# Example usage\n",
    "x0 = 10  # Initial guess\n",
    "alpha = 0.1  # Learning rate\n",
    "n = 20  # Number of iterations\n",
    "\n",
    "# Run gradient descent\n",
    "x_vals, f_vals = gradient_descent(f, f_prime, x0, alpha, n)\n",
    "\n",
    "# Print the results\n",
    "for i in range(len(x_vals)):\n",
    "    print(f\"Iteration {i}: x = {x_vals[i]:.6f}, f(x) = {f_vals[i]:.6f}\")\n"
   ]
  },
  {
   "cell_type": "markdown",
   "id": "cc95912a",
   "metadata": {},
   "source": [
    "b) Run your function with x0 = 2, alpha = 0.1, and n = 10. Present the output as a table \n",
    "with columns: iteration, x-value, f(x)-value.     "
   ]
  },
  {
   "cell_type": "code",
   "execution_count": 25,
   "id": "62b0d7b4",
   "metadata": {},
   "outputs": [
    {
     "name": "stdout",
     "output_type": "stream",
     "text": [
      "    Iteration   x-value f(x)-value\n",
      "0           0  2.000000   1.000000\n",
      "1           1  2.200000   0.640000\n",
      "2           2  2.360000   0.409600\n",
      "3           3  2.488000   0.262144\n",
      "4           4  2.590400   0.167772\n",
      "5           5  2.672320   0.107374\n",
      "6           6  2.737856   0.068719\n",
      "7           7  2.790285   0.043980\n",
      "8           8  2.832228   0.028147\n",
      "9           9  2.865782   0.018014\n",
      "10         10  2.892626   0.011529\n"
     ]
    }
   ],
   "source": [
    "import pandas as pd\n",
    "\n",
    "# Gradient Descent Function\n",
    "def gradient_descent(f, f_prime, x0, alpha, n):\n",
    "    # Initialize the lists to store the x-values and f(x)-values for each iteration\n",
    "    x_values = [x0]\n",
    "    f_values = [f(x0)]\n",
    "    \n",
    "    # Perform the gradient descent for n iterations\n",
    "    x = x0\n",
    "    for i in range(n):\n",
    "        # Update the value of x using the gradient descent update rule\n",
    "        x = x - alpha * f_prime(x)\n",
    "        \n",
    "        # Store the updated x and f(x)\n",
    "        x_values.append(x)\n",
    "        f_values.append(f(x))\n",
    "    \n",
    "    return x_values, f_values\n",
    "\n",
    "# Define the function f(x) and its derivative f'(x)\n",
    "def f(x):\n",
    "    return x**2 - 6*x + 9\n",
    "\n",
    "def f_prime(x):\n",
    "    return 2*x - 6\n",
    "\n",
    "# Example usage for the specific case\n",
    "x0 = 2  # Initial guess\n",
    "alpha = 0.1  # Learning rate\n",
    "n = 10  # Number of iterations\n",
    "\n",
    "# Run gradient descent\n",
    "x_vals, f_vals = gradient_descent(f, f_prime, x0, alpha, n)\n",
    "\n",
    "# Prepare the output in table format\n",
    "output = []\n",
    "for i in range(len(x_vals)):\n",
    "    output.append([i, f\"{x_vals[i]:.6f}\", f\"{f_vals[i]:.6f}\"])\n",
    "\n",
    "# Display the table\n",
    "df = pd.DataFrame(output, columns=[\"Iteration\", \"x-value\", \"f(x)-value\"])\n",
    "print(df)\n"
   ]
  },
  {
   "cell_type": "markdown",
   "id": "a85419f9",
   "metadata": {},
   "source": [
    "c) Explain what would happen if the learning rate were set to 1 instead of 0.1, using \n",
    "insights from your code and outputs.   "
   ]
  },
  {
   "cell_type": "markdown",
   "id": "252d67ca",
   "metadata": {},
   "source": [
    "The value of x will oscillate, flipping between positive and negative values without steadily decreasing toward zero.\n",
    "The function values f(x) = x^2 will also oscillate without converging,\n",
    "as the square of x will remain roughly the same magnitude but alternate in sign."
   ]
  },
  {
   "cell_type": "markdown",
   "id": "96474b12",
   "metadata": {},
   "source": [
    "Question 2: Linear Systems with Application Context (20 marks)\n",
    "A researcher is modeling a simple electrical circuit where: - 2I1 + 3I2 = 8 (KVL Equation 1) - 5I1 + 7I2 = 19 (KVL Equation 2)\n",
    "a) Formulate this system of equations as a matrix problem and solve it using NumPy in\n",
    "Python.\n"
   ]
  },
  {
   "cell_type": "code",
   "execution_count": 24,
   "id": "82514ed8",
   "metadata": {},
   "outputs": [
    {
     "name": "stdout",
     "output_type": "stream",
     "text": [
      "Iteration |   x-value   |   f(x)-value\n",
      "-----------------------------------\n",
      "    0     |   2.000000   |   4.000000\n",
      "    1     |   1.600000   |   2.560000\n",
      "    2     |   1.280000   |   1.638400\n",
      "    3     |   1.024000   |   1.048576\n",
      "    4     |   0.819200   |   0.671089\n",
      "    5     |   0.655360   |   0.429497\n",
      "    6     |   0.524288   |   0.274878\n",
      "    7     |   0.419430   |   0.175922\n",
      "    8     |   0.335544   |   0.112590\n",
      "    9     |   0.268435   |   0.072058\n",
      "    10     |   0.214748   |   0.046117\n",
      "\n",
      "Solving Linear System:\n",
      "Solution (I1, I2): [1. 2.]\n"
     ]
    }
   ],
   "source": [
    "import numpy as np\n",
    "\n",
    "# Gradient Descent Function\n",
    "def gradient_descent(func, deriv, x0, alpha, n):\n",
    "    x_values, f_values = [x0], [func(x0)]\n",
    "\n",
    "    for _ in range(n):\n",
    "        x0 -= alpha * deriv(x0)\n",
    "        x_values.append(x0)\n",
    "        f_values.append(func(x0))\n",
    "\n",
    "    return x_values, f_values\n",
    "\n",
    "# Print Table Function\n",
    "def print_table(x_vals, f_vals):\n",
    "    print(\"Iteration |   x-value   |   f(x)-value\")\n",
    "    print(\"-----------------------------------\")\n",
    "    for i, (x, fx) in enumerate(zip(x_vals, f_vals)):\n",
    "        print(f\"    {i}     |   {x:.6f}   |   {fx:.6f}\")\n",
    "\n",
    "# Solve Linear System\n",
    "def solve_linear_system():\n",
    "    A = np.array([[2, 3], [5, 7]])\n",
    "    B = np.array([8, 19])\n",
    "    solution = np.linalg.solve(A, B)\n",
    "    print(\"Solution (I1, I2):\", solution)\n",
    "\n",
    "# Example usage for Gradient Descent\n",
    "if __name__ == \"__main__\":\n",
    "    def func(x): return x**2\n",
    "    def deriv(x): return 2 * x\n",
    "\n",
    "    x_vals, f_vals = gradient_descent(func, deriv, x0=2.0, alpha=0.1, n=10)\n",
    "    print_table(x_vals, f_vals)\n",
    "\n",
    "    # Solve the linear system\n",
    "    print(\"\\nSolving Linear System:\")\n",
    "    solve_linear_system()\n"
   ]
  },
  {
   "cell_type": "markdown",
   "id": "638a2564",
   "metadata": {},
   "source": [
    "b) Modify your code to read the coefficients and constants from a `.txt` file that has the\n",
    "system in this format:\n",
    "2 3 8\n",
    "5 7 19\n",
    "Write code to parse the file and solve the system. \\[8 Marks]\n"
   ]
  },
  {
   "cell_type": "code",
   "execution_count": null,
   "id": "dad6173f",
   "metadata": {},
   "outputs": [],
   "source": [
    "import numpy as np\n",
    "\n",
    "# Gradient Descent Function\n",
    "def gradient_descent(func, deriv, x0, alpha, n):\n",
    "    x_values, f_values = [x0], [func(x0)]\n",
    "\n",
    "    for _ in range(n):\n",
    "        x0 -= alpha * deriv(x0)\n",
    "        x_values.append(x0)\n",
    "        f_values.append(func(x0))\n",
    "\n",
    "    return x_values, f_values\n",
    "\n",
    "# Print Table Function\n",
    "def print_table(x_vals, f_vals):\n",
    "    print(\"Iteration |   x-value   |   f(x)-value\")\n",
    "    print(\"-----------------------------------\")\n",
    "    for i, (x, fx) in enumerate(zip(x_vals, f_vals)):\n",
    "        print(f\"    {i}     |   {x:.6f}   |   {fx:.6f}\")\n",
    "\n",
    "# Read System from File and Solve\n",
    "def read_and_solve(filename):\n",
    "    with open(filename, 'r') as file:\n",
    "        lines = file.readlines()\n",
    "        matrix = [list(map(float, line.split())) for line in lines]\n",
    "\n",
    "    A = np.array([row[:-1] for row in matrix])\n",
    "    B = np.array([row[-1] for row in matrix])\n",
    "    solution = np.linalg.solve(A, B)\n",
    "    print(\"Solution (I1, I2):\", solution)\n",
    "\n",
    "# Example usage for Gradient Descent\n",
    "if __name__ == \"__main__\":\n",
    "    def func(x): return x**2\n",
    "    def deriv(x): return 2 * x\n",
    "\n",
    "    x_vals, f_vals = gradient_descent(func, deriv, x0=2.0, alpha=0.1, n=10)\n",
    "    print_table(x_vals, f_vals)\n",
    "\n",
    "    # Solve the linear system from file\n",
    "    print(\"\\nReading from file and solving linear system:\")\n",
    "    read_and_solve('system.txt')\n"
   ]
  },
  {
   "cell_type": "markdown",
   "id": "854d6ef2",
   "metadata": {},
   "source": [
    "c) Explain one real-world implication if the matrix of coefficients were nearly singular.\n",
    "How would that affect the solution, and what could you do about it computationally? \\[6\n",
    "Marks]\n"
   ]
  },
  {
   "cell_type": "markdown",
   "id": "a16a405e",
   "metadata": {},
   "source": [
    "Implications:\n",
    "Numerical Instability:\n",
    "When the matrix is nearly singular, small changes in the input can lead to large changes in the output. This can make the solution highly sensitive to rounding errors or small inaccuracies in the data.\n",
    "\n",
    "Unreliable Solution:\n",
    "In such cases, the system may produce a solution that is either undefined or highly inaccurate. The matrix might be \"ill-conditioned,\" meaning small perturbations in the coefficients can result in disproportionate changes in the solution.\n",
    "\n",
    "Computational Remedy:\n",
    "Regularization:\n",
    "Adding a small constant to the diagonal of the matrix (like in Ridge Regression) can help make the matrix more stable by increasing its condition number."
   ]
  },
  {
   "cell_type": "markdown",
   "id": "dfe66c1c",
   "metadata": {},
   "source": [
    "Question 3: Data Visualization and Interpretation (20 marks)\n",
    "Given a file data.csv with two columns: Time (s) and Temperature (°C), your task is to\n",
    "analyze a heat transfer process.\n",
    "a) Write a Python script that: - reads the data using pandas, - plots a line graph of temperature vs time, - and adds labels, title, and grid.\n"
   ]
  },
  {
   "cell_type": "code",
   "execution_count": 1,
   "id": "15bf9c57",
   "metadata": {},
   "outputs": [
    {
     "data": {
      "image/png": "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",
      "text/plain": [
       "<Figure size 640x480 with 1 Axes>"
      ]
     },
     "metadata": {},
     "output_type": "display_data"
    }
   ],
   "source": [
    "import pandas as pd\n",
    "import matplotlib.pyplot as plt\n",
    "\n",
    "# Read the data from the CSV file\n",
    "data = pd.read_csv('data.csv')\n",
    "\n",
    "# Plotting the graph\n",
    "plt.plot(data['Time (s)'], data['Temperature (°C)'], label='Temperature vs Time', color='b')\n",
    "\n",
    "# Adding labels and title\n",
    "plt.xlabel('Time (s)')\n",
    "plt.ylabel('Temperature (°C)')\n",
    "plt.title('Heat Transfer Process: Temperature vs Time')\n",
    "\n",
    "# Adding a grid\n",
    "plt.grid(True)\n",
    "\n",
    "# Display the plot\n",
    "plt.show()\n"
   ]
  },
  {
   "cell_type": "markdown",
   "id": "ab44fdc5",
   "metadata": {},
   "source": [
    "b) Based on your graph, explain any two observations you can make about the heating \n",
    "process (e.g., steady state, rate of change).   "
   ]
  },
  {
   "cell_type": "markdown",
   "id": "6298d0ca",
   "metadata": {},
   "source": [
    "1. Approach to Steady State:\n",
    "As time progresses, the temperature might approach a certain value and stabilize. This indicates that the system is nearing a steady state, where the rate of heat transfer into the object equals the rate of heat loss, causing the temperature to no longer increase significantly.\n",
    "\n",
    "Observation: The graph may show a curve where the temperature gradually levels off, indicating that the system has reached thermal equilibrium.\n",
    "\n",
    "2. Rate of Change:\n",
    "Initially, the temperature may increase at a faster rate, but as the system approaches the steady state, the rate of change of temperature (i.e., the slope of the graph) may slow down. This is typical in heat transfer processes where the temperature rise is faster at the beginning, and it slows down as the system approaches its final temperature.\n",
    "\n",
    "Observation: The graph could show a steeper slope initially, which flattens out over time, reflecting that the rate of temperature increase diminishes as the system heats up."
   ]
  },
  {
   "cell_type": "markdown",
   "id": "f0fa2e96",
   "metadata": {},
   "source": [
    "c) Describe a situation in engineering where such visualization can be used to influence\n",
    "decision-making.\n"
   ]
  },
  {
   "cell_type": "markdown",
   "id": "53b92448",
   "metadata": {},
   "source": [
    "In electronics cooling design, a Temperature vs. Time graph can help engineers:\n",
    "\n",
    "Optimize Cooling Systems: If the temperature rises too quickly, the graph prompts decisions to improve cooling, such as upgrading heatsinks or airflow.\n",
    "\n",
    "Ensure Component Longevity: If the system takes too long to stabilize or reaches high temperatures, engineers might redesign cooling solutions to prevent overheating and extend the life of components."
   ]
  },
  {
   "cell_type": "markdown",
   "id": "03a4e127",
   "metadata": {},
   "source": [
    "Question 4: ODE Simulation of Real System (20 marks)\n",
    "You are simulating population growth using the differential equation dy/dt = 0.5y, where\n",
    "y(0) = 100.\n",
    "a) Use Euler’s Method to approximate the population size after 4 time steps with step size\n",
    "h = 0.5. Show all computations.\n"
   ]
  },
  {
   "cell_type": "code",
   "execution_count": 23,
   "id": "ac0bd249",
   "metadata": {},
   "outputs": [
    {
     "name": "stdout",
     "output_type": "stream",
     "text": [
      "Time Step | Population Size\n",
      "      0.0  |    100.000000\n",
      "      0.5  |    125.000000\n",
      "      1.0  |    156.250000\n",
      "      1.5  |    195.312500\n",
      "      2.0  |    244.140625\n"
     ]
    }
   ],
   "source": [
    "# Function to calculate the next value using Euler's method\n",
    "def euler_method(dy_dt, y0, h, steps):\n",
    "    y = y0\n",
    "    results = [(0, y)]  # Store initial time and value\n",
    "    for i in range(steps):\n",
    "        y += h * dy_dt(y)  # Euler's method update\n",
    "        results.append((i+1, y))  # Store the result at each step\n",
    "    return results\n",
    "\n",
    "# Differential equation dy/dt = 0.5y\n",
    "def dy_dt(y):\n",
    "    return 0.5 * y\n",
    "\n",
    "# Initial conditions\n",
    "y0 = 100\n",
    "h = 0.5\n",
    "steps = 4\n",
    "\n",
    "# Apply Euler's method\n",
    "results = euler_method(dy_dt, y0, h, steps)\n",
    "\n",
    "# Print the results\n",
    "print(\"Time Step | Population Size\")\n",
    "for t, y in results:\n",
    "    print(f\"   {t*0.5:6.1f}  |    {y:.6f}\")\n"
   ]
  },
  {
   "cell_type": "markdown",
   "id": "6c733aa3",
   "metadata": {},
   "source": [
    "b) Write a Python function that generalizes the Euler’s method to solve any first-order\n",
    "ODE given f(t, y), initial condition, step size, and number of steps.\n"
   ]
  },
  {
   "cell_type": "code",
   "execution_count": 22,
   "id": "7c5f68b8",
   "metadata": {},
   "outputs": [
    {
     "name": "stdout",
     "output_type": "stream",
     "text": [
      "Time Step | Population Size\n",
      "      0.0  |    100.000000\n",
      "      0.5  |    125.000000\n",
      "      1.0  |    156.250000\n",
      "      1.5  |    195.312500\n",
      "      2.0  |    244.140625\n"
     ]
    }
   ],
   "source": [
    "# Generalized Euler's Method to solve any first-order ODE\n",
    "def euler_method_general(f, y0, t0, h, steps):\n",
    "    t = t0\n",
    "    y = y0\n",
    "    results = [(t, y)]  # Store initial time and value\n",
    "\n",
    "    for _ in range(steps):\n",
    "        y += h * f(t, y)  # Euler's method update\n",
    "        t += h  # Increment time\n",
    "        results.append((t, y))  # Store the result at each step\n",
    "\n",
    "    return results\n",
    "\n",
    "# Example usage:\n",
    "# Define the ODE: dy/dt = 0.5 * y\n",
    "def f(t, y):\n",
    "    return 0.5 * y\n",
    "\n",
    "# Initial conditions\n",
    "y0 = 100  # Initial population size\n",
    "t0 = 0    # Initial time\n",
    "h = 0.5   # Step size\n",
    "steps = 4 # Number of steps\n",
    "\n",
    "# Apply Euler's method\n",
    "results = euler_method_general(f, y0, t0, h, steps)\n",
    "\n",
    "# Print the results\n",
    "print(\"Time Step | Population Size\")\n",
    "for t, y in results:\n",
    "    print(f\"   {t:6.1f}  |    {y:.6f}\")\n"
   ]
  },
  {
   "cell_type": "markdown",
   "id": "d0793366",
   "metadata": {},
   "source": [
    "c) Briefly explain two limitations of using Euler’s Method for real-world systems, and\n",
    "suggest one alternative method.\n"
   ]
  },
  {
   "cell_type": "markdown",
   "id": "e665ce48",
   "metadata": {},
   "source": [
    "Limitations of Euler’s Method:\n",
    "Inaccuracy for Large Step Sizes:\n",
    "\n",
    "Euler’s method can be inaccurate when the step size \n",
    "ℎ\n",
    "h is large. The method approximates the solution with linear steps, which can lead to significant errors, especially for stiff or highly nonlinear systems. As the step size increases, the errors accumulate and can cause the solution to deviate considerably from the true behavior.\n",
    "\n",
    "Instability in Stiff Equations:\n",
    "\n",
    "Euler's method can become unstable for certain stiff differential equations, where there are rapidly changing and slowly changing components. The method may not capture the behavior accurately, leading to divergence or oscillations in the numerical solution.\n",
    "\n",
    "Suggested Alternative Method:\n",
    "Runge-Kutta Method (RK4):\n",
    "\n",
    "The Runge-Kutta method (specifically the 4th-order method, RK4) is a more accurate and stable alternative to Euler’s method. It uses multiple intermediate points to estimate the solution, providing better precision with the same step size. It is widely used in real-world systems because it balances accuracy and computational efficiency."
   ]
  }
 ],
 "metadata": {
  "kernelspec": {
   "display_name": "data_manipulation-kihLXR14",
   "language": "python",
   "name": "python3"
  },
  "language_info": {
   "codemirror_mode": {
    "name": "ipython",
    "version": 3
   },
   "file_extension": ".py",
   "mimetype": "text/x-python",
   "name": "python",
   "nbconvert_exporter": "python",
   "pygments_lexer": "ipython3",
   "version": "3.10.12"
  }
 },
 "nbformat": 4,
 "nbformat_minor": 5
}

{
 "cells": [
  {
   "cell_type": "markdown",
<<<<<<< HEAD
   "id": "cd03c783",
=======
   "id": "9e0b091e",
>>>>>>> ce19859 (CAT 1)
   "metadata": {},
   "source": [
    "CAT 1"
   ]
  },
  {
   "cell_type": "markdown",
<<<<<<< HEAD
   "id": "a4be3dc1",
   "metadata": {},
   "source": [
    "a) Implement a Python function that performs gradient descent to minimize this function.\n",
    "The function should take as parameters: - the initial guess x0, - learning rate alpha, - and number of iterations n.\n",
    "The function should return the list of x-values and f(x)-values for each iteration. \\[10\n",
    "Marks]\n"
=======
   "id": "a05f0e09",
   "metadata": {},
   "source": [
    "Question 1:\n",
    "\n",
    "a)Implement a Python function that performs gradient descent to minimize this function. \n",
    "The function should take as parameters: - the initial guess x0, - learning rate alpha, - and number of iterations n. \n",
    "The function should return the list of x-values and f(x)-values for each iteration. [10 \n",
    "Marks]"
>>>>>>> ce19859 (CAT 1)
   ]
  },
  {
   "cell_type": "code",
<<<<<<< HEAD
   "execution_count": 26,
   "id": "66557b07",
=======
   "execution_count": 16,
   "id": "48490c85",
>>>>>>> ce19859 (CAT 1)
   "metadata": {},
   "outputs": [
    {
     "name": "stdout",
     "output_type": "stream",
     "text": [
<<<<<<< HEAD
      "Iteration 0: x = 10.000000, f(x) = 49.000000\n",
      "Iteration 1: x = 8.600000, f(x) = 31.360000\n",
      "Iteration 2: x = 7.480000, f(x) = 20.070400\n",
      "Iteration 3: x = 6.584000, f(x) = 12.845056\n",
      "Iteration 4: x = 5.867200, f(x) = 8.220836\n",
      "Iteration 5: x = 5.293760, f(x) = 5.261335\n",
      "Iteration 6: x = 4.835008, f(x) = 3.367254\n",
      "Iteration 7: x = 4.468006, f(x) = 2.155043\n",
      "Iteration 8: x = 4.174405, f(x) = 1.379227\n",
      "Iteration 9: x = 3.939524, f(x) = 0.882706\n",
      "Iteration 10: x = 3.751619, f(x) = 0.564932\n",
      "Iteration 11: x = 3.601295, f(x) = 0.361556\n",
      "Iteration 12: x = 3.481036, f(x) = 0.231396\n",
      "Iteration 13: x = 3.384829, f(x) = 0.148093\n",
      "Iteration 14: x = 3.307863, f(x) = 0.094780\n",
      "Iteration 15: x = 3.246291, f(x) = 0.060659\n",
      "Iteration 16: x = 3.197032, f(x) = 0.038822\n",
      "Iteration 17: x = 3.157626, f(x) = 0.024846\n",
      "Iteration 18: x = 3.126101, f(x) = 0.015901\n",
      "Iteration 19: x = 3.100881, f(x) = 0.010177\n",
      "Iteration 20: x = 3.080705, f(x) = 0.006513\n"
=======
      "X values: [10.0, 8.0, 6.4, 5.12, 4.096, 3.2768, 2.62144, 2.0971520000000003, 1.6777216000000004, 1.3421772800000003, 1.0737418240000003, 0.8589934592000003, 0.6871947673600002, 0.5497558138880001, 0.43980465111040007, 0.35184372088832006, 0.281474976710656, 0.22517998136852482, 0.18014398509481985, 0.14411518807585588, 0.11529215046068471]\n",
      "Function values: [100.0, 64.0, 40.96000000000001, 26.2144, 16.777216, 10.73741824, 6.871947673600001, 4.398046511104002, 2.8147497671065613, 1.801439850948199, 1.1529215046068475, 0.7378697629483825, 0.47223664828696477, 0.3022314549036574, 0.19342813113834073, 0.12379400392853807, 0.07922816251426434, 0.050706024009129186, 0.03245185536584268, 0.020769187434139313, 0.013292279957849162]\n"
>>>>>>> ce19859 (CAT 1)
     ]
    }
   ],
   "source": [
<<<<<<< HEAD
    "def gradient_descent(f, f_prime, x0, alpha, n):\n",
    "    # Initialize the lists to store the x-values and f(x)-values for each iteration\n",
    "    x_values = [x0]\n",
    "    f_values = [f(x0)]\n",
    "    \n",
    "    # Perform the gradient descent for n iterations\n",
    "    x = x0\n",
    "    for i in range(n):\n",
    "        # Update the value of x using the gradient descent update rule\n",
    "        x = x - alpha * f_prime(x)\n",
    "        \n",
    "        # Store the updated x and f(x)\n",
    "        x_values.append(x)\n",
    "        f_values.append(f(x))\n",
    "    \n",
    "    return x_values, f_values\n",
    "\n",
    "# Define the function f(x) and its derivative f'(x)\n",
    "def f(x):\n",
    "    return x**2 - 6*x + 9\n",
    "\n",
    "def f_prime(x):\n",
    "    return 2*x - 6\n",
    "\n",
    "# Example usage\n",
    "x0 = 10  # Initial guess\n",
    "alpha = 0.1  # Learning rate\n",
    "n = 20  # Number of iterations\n",
    "\n",
    "# Run gradient descent\n",
    "x_vals, f_vals = gradient_descent(f, f_prime, x0, alpha, n)\n",
    "\n",
    "# Print the results\n",
    "for i in range(len(x_vals)):\n",
    "    print(f\"Iteration {i}: x = {x_vals[i]:.6f}, f(x) = {f_vals[i]:.6f}\")\n"
=======
    "def gradient_descent(func, deriv, x0, alpha, n):\n",
    "    x_values, f_values = [x0], [func(x0)]\n",
    "\n",
    "    for _ in range(n):\n",
    "        x0 -= alpha * deriv(x0)\n",
    "        x_values.append(x0)\n",
    "        f_values.append(func(x0))\n",
    "\n",
    "    return x_values, f_values\n",
    "\n",
    "# Example usage:\n",
    "if __name__ == \"__main__\":\n",
    "    def func(x): return x**2\n",
    "    def deriv(x): return 2 * x\n",
    "\n",
    "    x_vals, f_vals = gradient_descent(func, deriv, x0=10.0, alpha=0.1, n=20)\n",
    "    print(\"X values:\", x_vals)\n",
    "    print(\"Function values:\", f_vals)\n"
>>>>>>> ce19859 (CAT 1)
   ]
  },
  {
   "cell_type": "markdown",
<<<<<<< HEAD
   "id": "cc95912a",
   "metadata": {},
   "source": [
    "b) Run your function with x0 = 2, alpha = 0.1, and n = 10. Present the output as a table \n",
    "with columns: iteration, x-value, f(x)-value.     "
=======
   "id": "edc52b13",
   "metadata": {},
   "source": [
    "b) Run your function with x0 = 2, alpha = 0.1, and n = 10. Present the output as a table \n",
    "with columns: iteration, x-value, f(x)-value."
>>>>>>> ce19859 (CAT 1)
   ]
  },
  {
   "cell_type": "code",
<<<<<<< HEAD
   "execution_count": 25,
   "id": "62b0d7b4",
   "metadata": {},
   "outputs": [
    {
     "name": "stdout",
     "output_type": "stream",
     "text": [
      "    Iteration   x-value f(x)-value\n",
      "0           0  2.000000   1.000000\n",
      "1           1  2.200000   0.640000\n",
      "2           2  2.360000   0.409600\n",
      "3           3  2.488000   0.262144\n",
      "4           4  2.590400   0.167772\n",
      "5           5  2.672320   0.107374\n",
      "6           6  2.737856   0.068719\n",
      "7           7  2.790285   0.043980\n",
      "8           8  2.832228   0.028147\n",
      "9           9  2.865782   0.018014\n",
      "10         10  2.892626   0.011529\n"
     ]
    }
   ],
   "source": [
    "import pandas as pd\n",
    "\n",
    "# Gradient Descent Function\n",
    "def gradient_descent(f, f_prime, x0, alpha, n):\n",
    "    # Initialize the lists to store the x-values and f(x)-values for each iteration\n",
    "    x_values = [x0]\n",
    "    f_values = [f(x0)]\n",
    "    \n",
    "    # Perform the gradient descent for n iterations\n",
    "    x = x0\n",
    "    for i in range(n):\n",
    "        # Update the value of x using the gradient descent update rule\n",
    "        x = x - alpha * f_prime(x)\n",
    "        \n",
    "        # Store the updated x and f(x)\n",
    "        x_values.append(x)\n",
    "        f_values.append(f(x))\n",
    "    \n",
    "    return x_values, f_values\n",
    "\n",
    "# Define the function f(x) and its derivative f'(x)\n",
    "def f(x):\n",
    "    return x**2 - 6*x + 9\n",
    "\n",
    "def f_prime(x):\n",
    "    return 2*x - 6\n",
    "\n",
    "# Example usage for the specific case\n",
    "x0 = 2  # Initial guess\n",
    "alpha = 0.1  # Learning rate\n",
    "n = 10  # Number of iterations\n",
    "\n",
    "# Run gradient descent\n",
    "x_vals, f_vals = gradient_descent(f, f_prime, x0, alpha, n)\n",
    "\n",
    "# Prepare the output in table format\n",
    "output = []\n",
    "for i in range(len(x_vals)):\n",
    "    output.append([i, f\"{x_vals[i]:.6f}\", f\"{f_vals[i]:.6f}\"])\n",
    "\n",
    "# Display the table\n",
    "df = pd.DataFrame(output, columns=[\"Iteration\", \"x-value\", \"f(x)-value\"])\n",
    "print(df)\n"
   ]
  },
  {
   "cell_type": "markdown",
   "id": "a85419f9",
   "metadata": {},
   "source": [
    "c) Explain what would happen if the learning rate were set to 1 instead of 0.1, using \n",
    "insights from your code and outputs.   "
   ]
  },
  {
   "cell_type": "markdown",
   "id": "252d67ca",
   "metadata": {},
   "source": [
    "The value of x will oscillate, flipping between positive and negative values without steadily decreasing toward zero.\n",
    "The function values f(x) = x^2 will also oscillate without converging,\n",
    "as the square of x will remain roughly the same magnitude but alternate in sign."
   ]
  },
  {
   "cell_type": "markdown",
   "id": "96474b12",
   "metadata": {},
   "source": [
    "Question 2: Linear Systems with Application Context (20 marks)\n",
    "A researcher is modeling a simple electrical circuit where: - 2I1 + 3I2 = 8 (KVL Equation 1) - 5I1 + 7I2 = 19 (KVL Equation 2)\n",
    "a) Formulate this system of equations as a matrix problem and solve it using NumPy in\n",
    "Python.\n"
   ]
  },
  {
   "cell_type": "code",
   "execution_count": 24,
   "id": "82514ed8",
=======
   "execution_count": 17,
   "id": "9beb8acf",
   "metadata": {},
   "outputs": [
    {
     "name": "stdout",
     "output_type": "stream",
     "text": [
      "Iteration |   x-value   |   f(x)-value\n",
      "    0     |   2.000000   |   4.000000\n",
      "    1     |   1.600000   |   2.560000\n",
      "    2     |   1.280000   |   1.638400\n",
      "    3     |   1.024000   |   1.048576\n",
      "    4     |   0.819200   |   0.671089\n",
      "    5     |   0.655360   |   0.429497\n",
      "    6     |   0.524288   |   0.274878\n",
      "    7     |   0.419430   |   0.175922\n",
      "    8     |   0.335544   |   0.112590\n",
      "    9     |   0.268435   |   0.072058\n",
      "    10     |   0.214748   |   0.046117\n"
     ]
    }
   ],
   "source": [
    "def gradient_descent(func, deriv, x0, alpha, n):\n",
    "    x_values, f_values = [x0], [func(x0)]\n",
    "\n",
    "    for _ in range(n):\n",
    "        x0 -= alpha * deriv(x0)\n",
    "        x_values.append(x0)\n",
    "        f_values.append(func(x0))\n",
    "\n",
    "    return x_values, f_values\n",
    "\n",
    "def print_table(x_vals, f_vals):\n",
    "    print(\"Iteration |   x-value   |   f(x)-value\")\n",
    "    for i, (x, fx) in enumerate(zip(x_vals, f_vals)):\n",
    "        print(f\"    {i}     |   {x:.6f}   |   {fx:.6f}\")\n",
    "\n",
    "# Example usage:\n",
    "if __name__ == \"__main__\":\n",
    "    def func(x): return x**2\n",
    "    def deriv(x): return 2 * x\n",
    "\n",
    "    x_vals, f_vals = gradient_descent(func, deriv, x0=2.0, alpha=0.1, n=10)\n",
    "    print_table(x_vals, f_vals)\n"
   ]
  },
  {
   "cell_type": "markdown",
   "id": "c76c44f1",
   "metadata": {},
   "source": [
    "c) Explain what would happen if the learning rate were set to 1 instead of 0.1, using \n",
    "insights from your code and outputs.    "
   ]
  },
  {
   "cell_type": "markdown",
   "id": "753c194d",
   "metadata": {},
   "source": [
    "If the learning rate is set to 1, the algorithm will oscillate without converging because the update step becomes \n",
    "x_new = -x_old, causing the values to alternate between positive and negative without reducing in magnitude."
   ]
  },
  {
   "cell_type": "markdown",
   "id": "60333b4b",
   "metadata": {},
   "source": [
    "Question 2: \n",
    "\n",
    "A researcher is modeling a simple electrical circuit where: - 2I1 + 3I2 = 8 (KVL Equation 1) - 5I1 + 7I2 = 19 (KVL Equation 2) \n",
    "a) Formulate this system of equations as a matrix problem and solve it using NumPy in \n",
    "Python.  "
   ]
  },
  {
   "cell_type": "code",
   "execution_count": 18,
   "id": "9fc010e0",
>>>>>>> ce19859 (CAT 1)
   "metadata": {},
   "outputs": [
    {
     "name": "stdout",
     "output_type": "stream",
     "text": [
      "Iteration |   x-value   |   f(x)-value\n",
<<<<<<< HEAD
      "-----------------------------------\n",
=======
>>>>>>> ce19859 (CAT 1)
      "    0     |   2.000000   |   4.000000\n",
      "    1     |   1.600000   |   2.560000\n",
      "    2     |   1.280000   |   1.638400\n",
      "    3     |   1.024000   |   1.048576\n",
      "    4     |   0.819200   |   0.671089\n",
      "    5     |   0.655360   |   0.429497\n",
      "    6     |   0.524288   |   0.274878\n",
      "    7     |   0.419430   |   0.175922\n",
      "    8     |   0.335544   |   0.112590\n",
      "    9     |   0.268435   |   0.072058\n",
      "    10     |   0.214748   |   0.046117\n",
<<<<<<< HEAD
      "\n",
      "Solving Linear System:\n",
=======
>>>>>>> ce19859 (CAT 1)
      "Solution (I1, I2): [1. 2.]\n"
     ]
    }
   ],
   "source": [
    "import numpy as np\n",
    "\n",
<<<<<<< HEAD
    "# Gradient Descent Function\n",
=======
>>>>>>> ce19859 (CAT 1)
    "def gradient_descent(func, deriv, x0, alpha, n):\n",
    "    x_values, f_values = [x0], [func(x0)]\n",
    "\n",
    "    for _ in range(n):\n",
    "        x0 -= alpha * deriv(x0)\n",
    "        x_values.append(x0)\n",
    "        f_values.append(func(x0))\n",
    "\n",
    "    return x_values, f_values\n",
    "\n",
<<<<<<< HEAD
    "# Print Table Function\n",
    "def print_table(x_vals, f_vals):\n",
    "    print(\"Iteration |   x-value   |   f(x)-value\")\n",
    "    print(\"-----------------------------------\")\n",
    "    for i, (x, fx) in enumerate(zip(x_vals, f_vals)):\n",
    "        print(f\"    {i}     |   {x:.6f}   |   {fx:.6f}\")\n",
    "\n",
    "# Solve Linear System\n",
=======
    "#Table Function\n",
    "def print_table(x_vals, f_vals):\n",
    "    print(\"Iteration |   x-value   |   f(x)-value\")\n",
    "    for i, (x, fx) in enumerate(zip(x_vals, f_vals)):\n",
    "        print(f\"    {i}     |   {x:.6f}   |   {fx:.6f}\")\n",
    "\n",
    "#Linear System\n",
>>>>>>> ce19859 (CAT 1)
    "def solve_linear_system():\n",
    "    A = np.array([[2, 3], [5, 7]])\n",
    "    B = np.array([8, 19])\n",
    "    solution = np.linalg.solve(A, B)\n",
    "    print(\"Solution (I1, I2):\", solution)\n",
    "\n",
<<<<<<< HEAD
    "# Example usage for Gradient Descent\n",
=======
    "# Example for Gradient Descent\n",
>>>>>>> ce19859 (CAT 1)
    "if __name__ == \"__main__\":\n",
    "    def func(x): return x**2\n",
    "    def deriv(x): return 2 * x\n",
    "\n",
    "    x_vals, f_vals = gradient_descent(func, deriv, x0=2.0, alpha=0.1, n=10)\n",
    "    print_table(x_vals, f_vals)\n",
<<<<<<< HEAD
    "\n",
    "    # Solve the linear system\n",
    "    print(\"\\nSolving Linear System:\")\n",
=======
>>>>>>> ce19859 (CAT 1)
    "    solve_linear_system()\n"
   ]
  },
  {
   "cell_type": "markdown",
<<<<<<< HEAD
   "id": "638a2564",
   "metadata": {},
   "source": [
    "b) Modify your code to read the coefficients and constants from a `.txt` file that has the\n",
    "system in this format:\n",
    "2 3 8\n",
    "5 7 19\n",
    "Write code to parse the file and solve the system. \\[8 Marks]\n"
=======
   "id": "018daf78",
   "metadata": {},
   "source": [
    "b) Modify your code to read the coefficients and constants from a `.txt` file that has the \n",
    "system in this format: \n",
    "2 3 8 \n",
    "5 7 19 \n",
    "Write code to parse the file and solve the system. [8 Marks]"
>>>>>>> ce19859 (CAT 1)
   ]
  },
  {
   "cell_type": "code",
   "execution_count": null,
<<<<<<< HEAD
   "id": "dad6173f",
=======
   "id": "9b91de5c",
>>>>>>> ce19859 (CAT 1)
   "metadata": {},
   "outputs": [],
   "source": [
    "import numpy as np\n",
    "\n",
    "# Gradient Descent Function\n",
    "def gradient_descent(func, deriv, x0, alpha, n):\n",
    "    x_values, f_values = [x0], [func(x0)]\n",
    "\n",
    "    for _ in range(n):\n",
    "        x0 -= alpha * deriv(x0)\n",
    "        x_values.append(x0)\n",
    "        f_values.append(func(x0))\n",
    "\n",
    "    return x_values, f_values\n",
    "\n",
    "# Print Table Function\n",
    "def print_table(x_vals, f_vals):\n",
    "    print(\"Iteration |   x-value   |   f(x)-value\")\n",
<<<<<<< HEAD
    "    print(\"-----------------------------------\")\n",
=======
>>>>>>> ce19859 (CAT 1)
    "    for i, (x, fx) in enumerate(zip(x_vals, f_vals)):\n",
    "        print(f\"    {i}     |   {x:.6f}   |   {fx:.6f}\")\n",
    "\n",
    "# Read System from File and Solve\n",
    "def read_and_solve(filename):\n",
    "    with open(filename, 'r') as file:\n",
    "        lines = file.readlines()\n",
    "        matrix = [list(map(float, line.split())) for line in lines]\n",
    "\n",
<<<<<<< HEAD
    "    A = np.array([row[:-1] for row in matrix])\n",
    "    B = np.array([row[-1] for row in matrix])\n",
    "    solution = np.linalg.solve(A, B)\n",
    "    print(\"Solution (I1, I2):\", solution)\n",
    "\n",
    "# Example usage for Gradient Descent\n",
    "if __name__ == \"__main__\":\n",
    "    def func(x): return x**2\n",
    "    def deriv(x): return 2 * x\n",
    "\n",
    "    x_vals, f_vals = gradient_descent(func, deriv, x0=2.0, alpha=0.1, n=10)\n",
    "    print_table(x_vals, f_vals)\n",
    "\n",
    "    # Solve the linear system from file\n",
    "    print(\"\\nReading from file and solving linear system:\")\n",
    "    read_and_solve('system.txt')\n"
=======
    "        A = np.array([row[:-1] for row in matrix])\n",
    "        B = np.array([row[-1] for row in matrix])\n",
    "    solution = np.linalg.solve(A, B)\n",
    "    print(\"Solution (I1, I2):\", solution)\n",
    "    \n",
    "# Example for Gradient Descent\n",
    "def func(x): return x**2\n",
    "def deriv(x): return 2 * x\n",
    "\n",
    "x_vals, f_vals = gradient_descent(func, deriv, x0=2.0, alpha=0.1, n=10)\n",
    "print_table(x_vals, f_vals)\n",
    "\n",
    "# Solve the linear system from file\n",
    "print(\"\\nReading from file and solving linear system:\")\n",
    "read_and_solve('system.txt')\n"
>>>>>>> ce19859 (CAT 1)
   ]
  },
  {
   "cell_type": "markdown",
<<<<<<< HEAD
   "id": "854d6ef2",
   "metadata": {},
   "source": [
    "c) Explain one real-world implication if the matrix of coefficients were nearly singular.\n",
    "How would that affect the solution, and what could you do about it computationally? \\[6\n",
    "Marks]\n"
=======
   "id": "d8f57b02",
   "metadata": {},
   "source": [
    "c) Explain one real-world implication if the matrix of coefficients were nearly singular. \n",
    "How would that affect the solution, and what could you do about it computationally? [6 \n",
    "Marks] "
>>>>>>> ce19859 (CAT 1)
   ]
  },
  {
   "cell_type": "markdown",
<<<<<<< HEAD
   "id": "a16a405e",
=======
   "id": "26f70e99",
>>>>>>> ce19859 (CAT 1)
   "metadata": {},
   "source": [
    "Implications:\n",
    "Numerical Instability:\n",
    "When the matrix is nearly singular, small changes in the input can lead to large changes in the output. This can make the solution highly sensitive to rounding errors or small inaccuracies in the data.\n",
    "\n",
    "Unreliable Solution:\n",
    "In such cases, the system may produce a solution that is either undefined or highly inaccurate. The matrix might be \"ill-conditioned,\" meaning small perturbations in the coefficients can result in disproportionate changes in the solution.\n",
    "\n",
<<<<<<< HEAD
    "Computational Remedy:\n",
    "Regularization:\n",
    "Adding a small constant to the diagonal of the matrix (like in Ridge Regression) can help make the matrix more stable by increasing its condition number."
=======
    "Computational Remedies:\n",
    "Regularization:\n",
    "Adding a small constant to the diagonal of the matrix (like in Ridge Regression) can help make the matrix more stable by increasing its condition number.\n",
    "\n",
    "Use of Pseudo-Inverse:\n",
    "If the matrix is nearly singular but still solvable, using the Moore-Penrose pseudo-inverse (through np.linalg.pinv) instead of np.linalg.solve can provide a more stable solution, especially in the case of an underdetermined or nearly singular system.\n",
    "\n",
    "Refined Numerical Methods:\n",
    "Use specialized algorithms like Singular Value Decomposition (SVD) to handle ill-conditioned systems, which can give better insight into the behavior of the system even if the matrix is nearly singular."
>>>>>>> ce19859 (CAT 1)
   ]
  },
  {
   "cell_type": "markdown",
<<<<<<< HEAD
   "id": "dfe66c1c",
   "metadata": {},
   "source": [
    "Question 3: Data Visualization and Interpretation (20 marks)\n",
    "Given a file data.csv with two columns: Time (s) and Temperature (°C), your task is to\n",
    "analyze a heat transfer process.\n",
    "a) Write a Python script that: - reads the data using pandas, - plots a line graph of temperature vs time, - and adds labels, title, and grid.\n"
=======
   "id": "3b6c70c5",
   "metadata": {},
   "source": [
    "Question 3:\n",
    "\n",
    "Given a file data.csv with two columns: Time (s) and Temperature (°C), your task is to \n",
    "analyze a heat transfer process. \n",
    "a) Write a Python script that: - reads the data using pandas, - plots a line graph of temperature vs time, - and adds labels, title, and grid.   "
>>>>>>> ce19859 (CAT 1)
   ]
  },
  {
   "cell_type": "code",
<<<<<<< HEAD
   "execution_count": 1,
   "id": "15bf9c57",
=======
   "execution_count": 21,
   "id": "5012b2ba",
>>>>>>> ce19859 (CAT 1)
   "metadata": {},
   "outputs": [
    {
     "data": {
<<<<<<< HEAD
      "image/png": "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",
=======
      "image/png": "iVBORw0KGgoAAAANSUhEUgAAAjIAAAHHCAYAAACle7JuAAAAOnRFWHRTb2Z0d2FyZQBNYXRwbG90bGliIHZlcnNpb24zLjEwLjMsIGh0dHBzOi8vbWF0cGxvdGxpYi5vcmcvZiW1igAAAAlwSFlzAAAPYQAAD2EBqD+naQAAXYVJREFUeJzt3XmcjeX/x/HXMWYzK4YZMpYkspWQhkj2NWVKpEKyfcfeKkoUSiVlJ9E3RJa+IttkV2TfWmwJZV8Hw6z374/7NyfTzDBnnHGfM/N+Ph7zqPs6Z+7zOfd1Zrznuq/7um2GYRiIiIiIuKE8VhcgIiIiklUKMiIiIuK2FGRERETEbSnIiIiIiNtSkBERERG3pSAjIiIibktBRkRERNyWgoyIiIi4LQUZERERcVsKMiJO9OGHH3L33Xfj4eHBAw88YHU5IuIEJUuWpGPHjlaXIRlQkMklpk+fjs1mY+vWrek+XrduXSpWrJitNSxZsoR33nnnls9LqfVWXyVLlszWeh21YsUKXnvtNWrVqsW0adMYPnx4tr7eO++8k+p45MuXj/LlyzNo0CBiYmKy9bXdRd26dTP1WcrM5zKnyuzPZU6yZs2aTH0ubDab1aVKJuS1ugDJPZYsWcK4ceNu+UuzTp06fPXVV6naXnrpJR566CG6du1qb/P398+OMrNs1apV5MmTh6lTp+Ll5XXHXnfChAn4+/tz5coVVqxYwbBhw1i1ahU//vhjrv9FPHDgQF566SX79pYtW/jss8948803ue++++ztlStXtqI8l5DZn8uc5L777kvzO2bAgAH4+/szcODANM/ft28fefLo735XpSAjLufuu+/m7rvvTtXWvXt37r77bp577rkMvy8xMZHk5OQ7GiJudPr0aXx9fZ36+rGxseTLl++mz3nqqacICQkBzOMUGRnJggUL2LRpExEREVneb07QsGHDVNs+Pj589tlnNGzYkLp161pTVDa7evUqfn5+VpfhMnWkJzQ0NM3vkvfff5+QkJB0f8d4e3vfqdIkCxQx5aZmzJhB1apV8fX1pUCBArRt25Zjx46les769et5+umnKV68ON7e3oSHh9OvXz+uXbtmf07Hjh0ZN24cgFOGbf/8809sNhsfffQRo0ePpnTp0nh7e/Prr78SHx/P22+/TdWqVQkKCsLPz4/atWuzevXqDPcxefJk+z6qV6/Oli1bUj335MmTdOrUiWLFiuHt7U2RIkVo1aoVf/75p/09TZs2jatXr9rf2/Tp0x06jimn97Zt20adOnXIly8fb775psPHpl69egAcPnz4lvs9ffo0nTt3JjQ0FB8fH+6//36+/PLLNPtMTk7m008/pVKlSvj4+FCoUCGaNGmS5lRlZt7ngQMHiIyMJCwsDB8fH4oVK0bbtm25dOmS/TnR0dE88sgjBAcH4+/vT9myZdMci6NHj/L77787fHzSs3TpUmrXro2fnx8BAQE0b96cX375JdVzOnbsiL+/P0ePHqVFixb4+/tz11132T/Xe/bsoV69evj5+VGiRAlmzZqV6vtTTpmuW7eObt26UbBgQQIDA3nhhRe4cOHCbdV06NAhmjVrRkBAAO3btwdu/+cy5fTLmjVrUr1mys/NjZ/vm9WRnJzM6NGjqVChAj4+PoSGhtKtW7d03/ONPvroI2w2G0eOHEnz2IABA/Dy8rLvIzOfqdvx7zkyKX25YcMGevfuTaFChQgODqZbt27Ex8dz8eJFXnjhBfLnz0/+/Pl57bXXMAwj1T6zelwkLY3I5DKXLl3i7NmzadoTEhLStA0bNoy33nqLNm3a8NJLL3HmzBnGjBlDnTp12LFjB8HBwQDMnTuX2NhYevToQcGCBdm8eTNjxozhr7/+Yu7cuQB069aN48ePEx0dnWZI93ZMmzaN69ev07VrV7y9vSlQoAAxMTF8/vnntGvXji5dunD58mWmTp1K48aN2bx5c5pJuLNmzeLy5ct069YNm83GyJEjad26NX/88Qeenp4AREZG8ssvv9CrVy9KlizJ6dOniY6O5ujRo5QsWZKvvvqKyZMns3nzZj7//HMAatas6dBxBDh37hxNmzalbdu2PPfcc4SGhjp8TA4dOgRAwYIFb7rfa9euUbduXQ4ePEjPnj0pVaoUc+fOpWPHjly8eJE+ffrYv79z585Mnz6dpk2b8tJLL5GYmMj69evZtGkT1apVy/T7jI+Pp3HjxsTFxdGrVy/CwsL4+++/Wbx4MRcvXiQoKIhffvmFFi1aULlyZYYOHYq3tzcHDx7kxx9/TPU+X3jhBdauXZvmHwhHffXVV3To0IHGjRvzwQcfEBsby4QJE3jkkUfYsWNHqrlYSUlJNG3alDp16jBy5EhmzpxJz5498fPzY+DAgbRv357WrVszceJEXnjhBSIiIihVqlSq1+vZsyfBwcG888477Nu3jwkTJnDkyBF7cHC0psTERBo3bswjjzzCRx99ZB9pu9M/lxnV0a1bN6ZPn06nTp3o3bs3hw8fZuzYsezYsYMff/zR/jP2b23atOG1117jm2++4dVXX0312DfffEOjRo3Inz9/pj5T2SXl9YYMGcKmTZuYPHkywcHB/PTTTxQvXpzhw4ezZMkSPvzwQypWrMgLL7xg/96sHhdJhyG5wrRp0wzgpl8VKlSwP//PP/80PDw8jGHDhqXaz549e4y8efOmao+NjU3zeiNGjDBsNptx5MgRe1tUVJSR1Y+cn5+f0aFDB/v24cOHDcAIDAw0Tp8+neq5iYmJRlxcXKq2CxcuGKGhocaLL76YZh8FCxY0zp8/b29fuHChARiLFi2yfy9gfPjhhzetsUOHDoafn1+qNkeO46OPPmoAxsSJE2/6OikGDx5sAMa+ffuMM2fOGIcPHzYmTZpkeHt7G6GhocbVq1dvut/Ro0cbgDFjxgx7W3x8vBEREWH4+/sbMTExhmEYxqpVqwzA6N27d5oakpOTHXqfO3bsMABj7ty5Gb6vTz75xACMM2fO3PT9p7wvR8ydO9cAjNWrVxuGYRiXL182goODjS5duqR63smTJ42goKBU7R06dDAAY/jw4fa2CxcuGL6+vobNZjNmz55tb//9998NwBg8eLC9LeVnsGrVqkZ8fLy9feTIkQZgLFy4MMs1vfHGG2ne6+3+XK5evTrVsUqR8nMzbdq0W9axfv16AzBmzpyZqn3ZsmXptv9bRESEUbVq1VRtmzdvNgDjv//9r2EYmftMZUaFChWMRx99NN3HSpQoker3T0pfNm7c2P4zkFKvzWYzunfvbm9LTEw0ihUrlmrft3tcJDWdWsplxo0bR3R0dJqvf092XLBgAcnJybRp04azZ8/av8LCwihTpkyq0zS+vr72/7969Spnz56lZs2aGIbBjh07svX9REZGUqhQoVRtHh4e9nkqycnJnD9/nsTERKpVq8b27dvT7OOZZ54hf/789u3atWsD8McffwDY572sWbPG4WFfR44jmOfiO3Xq5NBrlC1blkKFClGqVCm6devGPffcw/fff59qDkx6+12yZAlhYWG0a9fO3ubp6Unv3r25cuUKa9euBWD+/PnYbDYGDx6c5rVTRhAy+z5T/jpevnw5sbGx6b6flBGqhQsXkpycnOH7XrNmzW2PxkRHR3Px4kXatWuXqm4PDw9q1KiRpn+AVJOHg4ODKVu2LH5+frRp08beXrZsWYKDg+2foRt17do11V/bPXr0IG/evCxZsiTLNfXo0SNNmxU/l/+uY+7cuQQFBdGwYcNU76Vq1ar4+/un+15u9Mwzz7Bt2zb7KCPAnDlz8Pb2plWrVkDmPlPZpXPnzqlOkdeoUQPDMOjcubO9zcPDg2rVqqX6LNzucZHUdGopl3nooYfspwJulD9//lSnnA4cOIBhGJQpUybd/dz4i/jo0aO8/fbbfPfdd2n+oXfWOeqM/HvYPsWXX37Jxx9/zO+//57qtFl6zy9evHiq7ZRQk/JevL29+eCDD3j55ZcJDQ3l4YcfpkWLFrzwwguEhYXdtD5HjiPAXXfd5fBk4fnz5xMYGIinpyfFihWjdOnSaZ6T3n6PHDlCmTJl0lyNkXI1T8rchEOHDlG0aFEKFCiQYQ2ZfZ+lSpWif//+jBo1ipkzZ1K7dm0ef/xxnnvuOfs/SM888wyff/45L730Em+88Qb169endevWPPXUU06/cuTAgQPAP/OK/i0wMDDVdsr8oBsFBQVRrFixNHO+goKC0g2+/z5G/v7+FClSxD7fytGa8ubNS7FixdI8707/XKZXx4EDB7h06RKFCxdO93tOnz59030+/fTT9O/fnzlz5vDmm29iGAZz586ladOm9uOQmc9Udvn3746U1wsPD0/TfmMf3O5xkdQUZCRdycnJ2Gw2li5dioeHR5rHUy59TkpKomHDhpw/f57XX3+dcuXK4efnx99//03Hjh1v+he1M9z4V2eKGTNm0LFjR5544gleffVVChcujIeHByNGjEj1l12K9N4fkOqv/b59+9KyZUv+97//sXz5ct566y1GjBjBqlWrqFKlSob1ZfY43uz93EqdOnXsVy1lJCv7dYQj7/Pjjz+mY8eOLFy4kBUrVtC7d29GjBjBpk2bKFasGL6+vqxbt47Vq1fz/fffs2zZMubMmUO9evVYsWJFhv2V1brBnJOSXijNmzf1r8iMXjszn6Hsqsnb2ztNwHPGz2VGk/GTkpLSbU+vjuTkZAoXLszMmTPT/Z5/h8J/K1q0KLVr1+abb77hzTffZNOmTRw9epQPPvgg1fNu9ZnKLo58Hm78LNzucZHUFGQkXaVLl8YwDEqVKsW9996b4fP27NnD/v37+fLLL1NNZIuOjk7z3Du1psm8efO4++67WbBgQarXTO/UiCNKly7Nyy+/zMsvv8yBAwd44IEH+Pjjj5kxY8ZNvyczx9EKJUqUYPfu3SQnJ6f6ByjlSqASJUoA5ntYvnw558+fz3BUxtH3WalSJSpVqsSgQYP46aefqFWrFhMnTuS9994DIE+ePNSvX5/69eszatQohg8fzsCBA1m9ejUNGjS43beeqm6AwoULO3W/N3PgwAEee+wx+/aVK1c4ceIEzZo1c1pNzvi5TBmZvHjxYqr29K4iykjp0qX54YcfqFWrVpbD9DPPPMN//vMf9u3bx5w5c8iXLx8tW7ZM87xbfaZciTOOi/xDc2QkXa1bt8bDw4MhQ4ak+avSMAzOnTsH/POXx43PMQyDTz/9NM0+U9aU+PcvRmdLr6aff/6ZjRs3Zml/sbGxXL9+PVVb6dKlCQgIIC4u7qbfm9njaIVmzZpx8uRJ5syZY29LTExkzJgx+Pv78+ijjwLmPCTDMBgyZEiafaS8p8y+z5iYGBITE1M9XqlSJfLkyWM/lufPn0/zOilXmt14vJ1x+XXjxo0JDAxk+PDh6V65d+bMmdvaf3omT56c6rUmTJhAYmIiTZs2dVpNzvi5LFGiBB4eHqxbty5V+/jx42/5+inatGlDUlIS7777bprHEhMTM/W7IDIyEg8PD77++mvmzp1LixYtUq1Pk5nPlKtxxnGRf2hERtJVunRp3nvvPQYMGMCff/7JE088QUBAAIcPH+bbb7+la9euvPLKK5QrV47SpUvzyiuv8PfffxMYGMj8+fPTnRtQtWpVAHr37k3jxo3x8PCgbdu2Tq+9RYsWLFiwgCeffJLmzZtz+PBhJk6cSPny5bly5YrD+9u/fz/169enTZs2lC9fnrx58/Ltt99y6tSpW9af2eNoha5duzJp0iQ6duzItm3bKFmyJPPmzePHH39k9OjRBAQEAPDYY4/x/PPP89lnn3HgwAGaNGlCcnIy69ev57HHHqNnz56Zfp+rVq2iZ8+ePP3009x7770kJiby1Vdf4eHhQWRkJABDhw5l3bp1NG/enBIlSnD69GnGjx9PsWLFeOSRR+z1O+Py68DAQCZMmMDzzz/Pgw8+SNu2bSlUqBBHjx7l+++/p1atWowdO/b2DvS/xMfH2z9P+/btY/z48TzyyCM8/vjjTqvJGT+XQUFBPP3004wZMwabzUbp0qVZvHixQ/M3Hn30Ubp168aIESPYuXMnjRo1wtPTkwMHDjB37lw+/fRTnnrqqZvuo3Dhwjz22GOMGjWKy5cv88wzz6R6PDOfKVfjjOMiN7gzF0eJ1VIuF9yyZUu6jz/66KOpLr9OMX/+fOORRx4x/Pz8DD8/P6NcuXJGVFSUsW/fPvtzfv31V6NBgwaGv7+/ERISYnTp0sXYtWtXmks0ExMTjV69ehmFChUybDabQ5fOZnT5dXqXRCcnJxvDhw83SpQoYXh7extVqlQxFi9ebHTo0MEoUaJEpvbBDZfOnj171oiKijLKlStn+Pn5GUFBQUaNGjWMb775JtX3pHf5dYrMHMeM+iAjKZdfZ+Yy5Yz2e+rUKaNTp05GSEiI4eXlZVSqVClVn6VITEw0PvzwQ6NcuXKGl5eXUahQIaNp06bGtm3bHHqff/zxh/Hiiy8apUuXNnx8fIwCBQoYjz32mPHDDz/Y97Fy5UqjVatWRtGiRQ0vLy+jaNGiRrt27Yz9+/eneV+O/gr79+XXKVavXm00btzYCAoKMnx8fIzSpUsbHTt2NLZu3Wp/Tkb9m9HxLVGihNG8eXP7dsrP4Nq1a42uXbsa+fPnN/z9/Y327dsb586dS/P9t1OTYTjn5/LMmTNGZGSkkS9fPiN//vxGt27djL1796Z7+XVGdRiGYUyePNmoWrWq4evrawQEBBiVKlUyXnvtNeP48eMZfs+NpkyZYgBGQECAce3atVSPZeYzlRlZufz6379PM/qZzOj43O5xEZPNMG7z+kUREbmllMXPtmzZku6VgyKSNZojIyIiIm5LQUZERETcloKMiIiIuC3NkRERERG3pREZERERcVsKMiIiIuK2cvyCeMnJyRw/fpyAgIA7tkS+iIiI3B7DMLh8+TJFixa96Q1jc3yQOX78eJo7kYqIiIh7OHbs2E1v/pnjg0zKMuvHjh2z3/bdGRISElixYoV9aWmxnvrEtag/XIv6w7WoP24tJiaG8PBw+7/jGcnxQSbldFJgYKDTg0y+fPkIDAzUh9BFqE9ci/rDtag/XIv6I/NuNS1Ek31FRETEbSnIiIiIiNtSkBERERG3pSAjIiIibktBRkRERNyWgoyIiIi4LQUZERERcVsKMiIiIuK2FGRERETEbSnIiIiIiNuyNMi888472Gy2VF/lypWzP379+nWioqIoWLAg/v7+REZGcurUKQsrFhEREVdi+YhMhQoVOHHihP1rw4YN9sf69evHokWLmDt3LmvXruX48eO0bt3awmpFRETElVh+08i8efMSFhaWpv3SpUtMnTqVWbNmUa9ePQCmTZvGfffdx6ZNm3j44YfvdKkiIiJyg8REWLsW6te3rgbLg8yBAwcoWrQoPj4+REREMGLECIoXL862bdtISEigQYMG9ueWK1eO4sWLs3HjxgyDTFxcHHFxcfbtmJgYwLzTaEJCgtPqTtmXM/cpt0d94lrUH65F/eFa3L0/Ll2CL77Iw7hxeTh61MbmzQk88IBzXyOzx8bSIFOjRg2mT59O2bJlOXHiBEOGDKF27drs3buXkydP4uXlRXBwcKrvCQ0N5eTJkxnuc8SIEQwZMiRN+4oVK8iXL5+z3wLR0dFO36fcHvWJa1F/uBb1h2txt/44fdqXxYvvJjq6BNeueQAQFBTHggU7OX4843+bsyI2NjZTz7MZhmE49ZVvw8WLFylRogSjRo3C19eXTp06pRpdAXjooYd47LHH+OCDD9LdR3ojMuHh4Zw9e5bAwECn1ZqQkEB0dDQNGzbE09PTafuVrFOfuBb1h2tRf7gWd+uPLVtsfPJJHr791kZSkg2AcuUM+vZN4tlnDXx8nP+aMTExhISEcOnSpZv++235qaUbBQcHc++993Lw4EEaNmxIfHw8Fy9eTDUqc+rUqXTn1KTw9vbG29s7Tbunp2e2fFiya7+SdeoT16L+cC3qD9fiyv2RlATffQcffww//vhPe4MG0L8/NG5sI0+e7IsRmT0ull+1dKMrV65w6NAhihQpQtWqVfH09GTlypX2x/ft28fRo0eJiIiwsEoREZGc68oVGDsWypaF1q3NEOPpCR06wM6dEB0NTZtCHhdJEJaOyLzyyiu0bNmSEiVKcPz4cQYPHoyHhwft2rUjKCiIzp07079/fwoUKEBgYCC9evUiIiJCVyyJiIg42d9/w5gxMGkSXLxotuXPDz16QFQUFC1qaXkZsjTI/PXXX7Rr145z585RqFAhHnnkETZt2kShQoUA+OSTT8iTJw+RkZHExcXRuHFjxo8fb2XJIiIiOcrOnebpo9mzzcupAe65B/r1M0dh/PwsLe+WLA0ys2fPvunjPj4+jBs3jnHjxt2hikRERHK+5GRYutQMMKtX/9Neuza8/DK0aAEeHtbV5wiXmuwrIiIi2efaNfjqK/jkE/j9d7PNwwPatDFHYKpXt7a+rFCQERERyeFOnYLx482vs2fNtsBA6NoVevWC4sWtre92KMiIiIjkUL/8AqNGwYwZEB9vtpUoAX37wosvmmHG3SnIiIiI5CCGAT/8YAaYZcv+aa9Rw5z/8uSTkDcH/eufg96KiIhI7hUXB19/bQaYPXvMNpvNDC4vvww1a1pbX3ZRkBEREXFj587BxInmInYptyL084POnaF3byhd2tr6spuCjIiIiBvavx9Gj4bp082rkQDuussML126mIvZ5QYKMiIiIm7CMGDdOnP9l8WLzW2AKlXM00dPPw1eXtbWeKcpyIiIiLi4hASYO9ec/7Jt2z/tLVuaN3B89FFzPkxupCAjIiLioi5ehClT4LPP4K+/zDYfH/PWAf36mTd2zO0UZERERFzM4cPw6acwdap5N2qA0FDo2RO6d4eQEGvrcyUKMiIiIi5i40bz9NGCBeb9kAAqVjRPH7VrZ47GSGoKMiIiIhZKSoJvvzUn8G7a9E97o0bmBN6GDXPv/JfMUJARERGxwLVreRkzJg9jx5qnksC84ui558z5LxUrWlufu1CQERERuYPi4+G99/Lw8ceNiI31AKBgQfjPf8yvsDCLC3QzCjIiIiJ3yI4d5hVHe/Z4AB6UKWPw8ss2nn8e8uWzujr3pCAjIiKSzeLjYfhwGDYMEhMhJMTghRe2MXz4/Xh7e1pdnlvLY3UBIiIiOdmuXeadp4cMMUNMZCTs3JlInTp/k0f/Ct82HUIREZFskJAA774L1arBzp3mPJjZs80VegsXtrq6nEOnlkRERJxs715zLsz27eb2E0+Yd6gODbW0rBxJIzIiIiJOkphozoV58EEzxOTPDzNnmgvcKcRkD43IiIiIOMGvv5qjMFu3mtstW8KkSVCkiLV15XQakREREbkNiYnwwQdQpYoZYoKD4b//hYULFWLuBI3IiIiIZNHvv0PHjvDzz+Z2s2bm3aqLFrW0rFxFIzIiIiIOSkqCjz6CBx4wQ0xgIEybBosXK8TcaRqRERERccD+/eYozMaN5naTJuYoTLFilpaVa2lERkREJBOSkuCTT+D++80QExAAn38OS5YoxFhJIzIiIiK3cPAgdOoEGzaY2w0bmiGmeHFr6xKNyIiIiGQoORk++wwqVzZDjL+/eUn18uUKMa5CIzIiIiLp+OMPcxRm3Tpzu149mDoVSpa0tCz5F43IiIiI3CA5GcaNM0dh1q0DPz8YPx6ioxViXJFGZERERP7fn3/Ciy/C6tXmdt268MUXUKqUlVXJzWhERkREcj3DMG/qWKmSGWLy5YMxY2DlSoUYV6cRGRERydWOHIGXXoIffjC3a9c2F7crXdrauiRzNCIjIiK5kmGYC9lVqmSGGF9fGD0a1qxRiHEnGpEREZFc59gx6NLFvIwaoGZNcxTm3nutrUscpxEZERHJNQzDDCwVK5ohxscHPv7YvDpJIcY9aURGRERyhb//hq5dzVsKADz8MEyfDmXLWlqW3CaNyIiISI5mGPDll1ChghlivL1h5EhzpV6FGPenERkREcmxTpwwR2EWLza3q1c3R2HKl7e0LHEijciIiEiOYxgwc6Y5CrN4MXh5wYgR8NNPCjE5jUZkREQkRzl5Erp3h4ULze2qVc1RmIoVLS1LsolGZEREJEcwDPj6a3MUZuFC8PSE996DjRsVYnIyjciIiIjbO30aevSABQvM7QceMCf4Vq5saVlyB2hERkRE3NrcueYozIIFkDcvDBkCmzcrxOQWLhNk3n//fWw2G3379rW31a1bF5vNluqre/fu1hUpIiIu48wZaNPG/Dp71gwuW7bA22+bp5Ukd3CJU0tbtmxh0qRJVE4nPnfp0oWhQ4fat/Ply3cnSxMRERe0YIE5offMGfDwgDffhEGDzKuTJHexfETmypUrtG/fnilTppA/f/40j+fLl4+wsDD7V2BgoAVVioiIKzh3Dp59FiIjzRBTsSL8/DMMHaoQk1tZPiITFRVF8+bNadCgAe+9916ax2fOnMmMGTMICwujZcuWvPXWWzcdlYmLiyMuLs6+HRMTA0BCQgIJCQlOqztlX87cp9we9YlrUX+4lpzQH3v2wOOP5+Xvv214eBi8+moyAwcm4+0N7va2ckJ/ZLfMHhtLg8zs2bPZvn07W7ZsSffxZ599lhIlSlC0aFF2797N66+/zr59+1iQMi09HSNGjGDIkCFp2lesWJEtp6Wio6Odvk+5PeoT16L+cC3u2h979hRkxIgaxMbaKFr0Cv36baNMmYusXGl1ZbfHXfvjToiNjc3U82yGYRjZXEu6jh07RrVq1YiOjrbPjalbty4PPPAAo0ePTvd7Vq1aRf369Tl48CClS5dO9znpjciEh4dz9uxZp56WSkhIIDo6moYNG+KpWWUuQX3iWtQfrsWd+2PePBsdO3oQH2+jVq1k5s9PokABq6u6Pe7cH3dKTEwMISEhXLp06ab/fls2IrNt2zZOnz7Ngw8+aG9LSkpi3bp1jB07lri4ODw8PFJ9T40aNQBuGmS8vb3x9vZO0+7p6ZktH5bs2q9knfrEtag/XIu79cdnn0HfvuZid61bw4wZefD1tXx6p9O4W3/cSZk9LpYFmfr167Nnz55UbZ06daJcuXK8/vrraUIMwM6dOwEoUqTInShRREQskpwMAwaYd6kG+M9/zFCTzj8NkstZFmQCAgKo+K81o/38/ChYsCAVK1bk0KFDzJo1i2bNmlGwYEF2795Nv379qFOnTrqXaYuISM4QHw8vvmje9BFg2DAz1Nhs1tYlrsnyq5Yy4uXlxQ8//MDo0aO5evUq4eHhREZGMmjQIKtLExGRbHL5snlpdXS0Ofry+efQsaPVVYkrc6kgs2bNGvv/h4eHs3btWuuKERGRO+rkSWjeHLZvBz8/mDcPmjSxuipxdS4VZEREJHfav98MLYcPQ6FC8P33UL261VWJO8g5U79FRMQt/fwz1Kplhpi774afflKIkcxTkBEREct8/z3Uq2fe9LFaNTPE3HOP1VWJO1GQERERS0ydCq1aQWwsNG4Mq1dDaKjVVYm7UZAREZE7yjDg3XfhpZcgKQleeAEWLQJ/f6srE3ekICMiIndMUhL06AFvv21uv/kmTJ8OWtxWskpXLYmIyB1x7Rq0awcLF5qL240ZA1FRVlcl7k5BRkREst25c/D44+ZkXm9vc9XeyEirq5KcQEFGRESy1ZEj5hoxv/8OwcHw3XdQu7bVVUlOoSAjIiLZZtcuaNoUTpyAYsVg2TKoUMHqqiQn0WRfERHJFqtWQZ06ZoipWBE2blSIEedTkBEREaebPds8nRQTY4aZ9evNERkRZ1OQERERp/rkE/PqpIQEc0Lv8uXm3BiR7KAgIyIiTpGcDK+8Av37m9s9e8KcOeDjY21dkrNpsq+IiNy2+Hjo1AlmzTK3338fXnvNXC9GJDspyIiIyG2JiYHWrWHlSsibF774Ap5/3uqqJLdQkBERkSw7cQKaNYOdO8HPD+bPN28AKXKnKMiIiEiW7NtnXpn0559QuDAsWQJVq1pdleQ2muwrIiIO27gRatY0Q8w995i3HlCIESsoyIiIiEMWLYL69eH8eaheHX78EUqXtroqya0UZEREJNOmTIEnnjDvZN20qbl6b+HCVlcluZmCjIiI3JJhwDvvQNeu5noxnTrBwoXg7291ZZLbabKviIjcVGIi/Oc/5mgMwMCB8O67WiNGXIOCjIiIZCg2Ftq2NefF2Gwwbhz06GF1VSL/UJAREZF0nT0LLVvCpk3mbQZmzYInn7S6KpHUFGRERCSNP/80F7bbvx/y5zdHZGrVsroqkbQUZEREJJWdO80rkk6ehPBwWLYMype3uiqR9OmqJRERsVu5EurUMUNMpUrmwncKMeLKFGRERAQw58A0bQqXL0PdurBuHdx1l9VVidycgoyIiPDxx9C+PSQkQJs25umk4GCrqxK5NQUZEZFcLDkZ+veHV14xt/v0ga+/Bm9va+sSySxN9hURyaXi4qBDB5gzx9weOdIMNFroTtyJgoyISC506ZK5Jszq1ZA3L0yfbp5aEnE3CjIiIrnM8ePmpN7du817JS1YAA0bWl2VSNYoyIiI5CK//Wau1nv0KISGwtKlUKWK1VWJZJ0m+4qI5BK//56funXzcvQolCljrhGjECPuTiMyIiK5wHff2Xj77VrEx9uoUQMWL4aQEKurErl9GpEREcnhJk2CNm08iI/3oFmzZFauVIiRnENBRkQkhzIMePtt6N4dkpNtNGhwhHnzkvDzs7oyEefRqSURkRwoMRG6dYMvvjC3Bw5Molq1neTNW9TawkScTCMyIiI5zNWr8MQTZojJkwcmToTBg5O10J3kSBqRERHJQc6cgRYtYPNm8PGB2bOhVSvzHkoiOZGCjIhIDvHHH9CkCRw4AAUKwKJFULOm1VWJZC8FGRGRHGD7dmjWDE6dguLFYflyKFfO6qpEsp/myIiIuLnoaHj0UTPE3H+/udCdQozkFi4TZN5//31sNht9+/a1t12/fp2oqCgKFiyIv78/kZGRnDp1yroiRURczIwZ5kjMlStQrx6sXQtFdWGS5CIuEWS2bNnCpEmTqFy5cqr2fv36sWjRIubOncvatWs5fvw4rVu3tqhKERHXYRgwciQ8/7x5qXXbtrBkCQQFWV2ZyJ3lUJD57bffGDx4MPXq1aN06dIUKVKEypUr06FDB2bNmkVcXJzDBVy5coX27dszZcoU8ufPb2+/dOkSU6dOZdSoUdSrV4+qVasybdo0fvrpJzZt2uTw64iI5BTJydC3L7z+urndvz/MnAne3paWJWKJTE323b59O6+99hobNmygVq1a1KhRgyeffBJfX1/Onz/P3r17GThwIL169eK1116jb9++eGfyJyoqKormzZvToEED3nvvPXv7tm3bSEhIoEGDBva2cuXKUbx4cTZu3MjDDz+c7v7i4uJSBaqYmBgAEhISSHDi9Ycp+3LmPuX2qE9ci/oje1y/Dp06eTB/vvl36MiRSfTtm0xSEiQlZfx96g/Xov64tcwem0wFmcjISF599VXmzZtHcHBwhs/buHEjn376KR9//DFvvvnmLfc7e/Zstm/fzpYtW9I8dvLkSby8vNK8XmhoKCdPnsxwnyNGjGDIkCFp2lesWEG+fPluWZOjoqOjnb5PuT3qE9ei/nCeK1fyMmJEDX75JYS8eZPp3Xs79977N0uWZH4f6g/Xov7IWGxsbKael6kgs3//fjw9PW/5vIiICCIiIjKVoo4dO0afPn2Ijo7Gx8cnM2VkyoABA+jfv799OyYmhvDwcBo1akRgYKDTXichIYHo6GgaNmyYqWMj2U994lrUH87199/QokVefvnFRkCAwdy5ydSrdz9wf6a+X/3hWtQft5ZyRuVWMhVkHD3ImXn+tm3bOH36NA8++KC9LSkpiXXr1jF27FiWL19OfHw8Fy9eTDUqc+rUKcLCwjLcr7e3d7qntTw9PbPlw5Jd+5WsU5+4FvXH7fvlF2jaFI4dg7AwWLrUxgMPZG0ZMPWHa1F/ZCyzxyXTk31XrVpF+fLl001Ily5dokKFCqxfvz7TBdavX589e/awc+dO+1e1atVo3769/f89PT1ZuXKl/Xv27dvH0aNHiYiIyPTriIi4sw0b4JFHzBBTtqy5RswDD1hdlYjryHSkHz16NF26dEn39ExQUBDdunVj1KhR1K5dO1P7CwgIoGLFiqna/Pz8KFiwoL29c+fO9O/fnwIFChAYGEivXr2IiIjIcKKviEhOsmABPPssxMXBww/D4sVQsKDVVYm4lkyPyOzatYsmTZpk+HijRo3Ytm2bU4pK8cknn9CiRQsiIyOpU6cOYWFhLFiwwKmvISLiisaPh6eeMkPM44/DypUKMSLpyfSIzKlTp256vipv3rycOXPmtopZs2ZNqm0fHx/GjRvHuHHjbmu/IiLuwjBg0CAYPtzc7toVxo2DvLoznki6Mj0ic9ddd7F3794MH9+9ezdFihRxSlEiIrlRQgK8+OI/IWbIEJg4USFG5GYyHWSaNWvGW2+9xfXr19M8du3aNQYPHkyLFi2cWpyISG5x5Qq0agXTp4OHB0yZAm+/DTab1ZWJuLZM5/xBgwaxYMEC7r33Xnr27EnZsmUB+P333xk3bhxJSUkMHDgw2woVEcmpTp+G5s1h61bw9YVvvgH9XSiSOZkOMqGhofz000/06NGDAQMGYBgGADabjcaNGzNu3DhCQ0OzrVARkZzo0CFo3Nj8b8GC5pVJujBTJPMcOvNaokQJlixZwoULFzh48CCGYVCmTJlUN3sUEZHM2boVmjWDM2egZElYtsxcK0ZEMi9LU8jy589P9erVnV2LiEiusXw5REbC1atQpQosWWKu2isijsn0ZN/r16/z/vvv88Ybb3DixInsrElEJEf773/NOTBXr0KDBrBmjUKMSFZlOsh07tyZAwcOULBgQRo0aJCdNYmI5EiGASNGQIcOkJgI7dvD99+DE+9nK5LrZPrU0urVq4mOjqZChQoMHDiQ06dPU7hw4eysTUQkx0hKgj59zMXtAF59Fd5/H/Jk+s9JEUlPpoPMo48+yqeffsq9995L8eLFFWJERDLp+nV47jmYP99cF+aTT8xQIyK3L9N/C0ydOpWSJUty6tSpVHekFhGRjF24AI0amSHGywtmz1aIEXGmTI/I5MuXjzfffDM7axERyVGOHYOmTeGXX8x5MP/7Hzz2mNVVieQsuoOHiEg22LsXmjSBv/+GokVh6VKoXNnqqkRynkydWurevTt//fVXpnY4Z84cZs6ceVtFiYi4s3XroHZtM8Tcdx9s3KgQI5JdMjUiU6hQISpUqECtWrVo2bIl1apVo2jRovj4+HDhwgV+/fVXNmzYwOzZsylatCiTJ0/O7rpFRFzSvHnmZdXx8VCrFnz3HRQoYHVVIjlXpoLMu+++S8+ePfn8888ZP348v/76a6rHAwICaNCgAZMnT6ZJkybZUqiIiKsbOxZ69zbXi3niCZg1y7wJpIhkH4duGjlw4EAGDhzIhQsXOHr0KNeuXSMkJITSpUtj073mRSSXMgx4801zXRiAHj1gzBjw8LC2LpHcIMv3WtKNIkVEICEBOneGr74yt997zww1+ttO5M7QVUsiIll0+TI89RSsWGGOvkyZAp06WV2VSO6iICMikgWnTkHz5rBtG+TLB3PnQrNmVlclkvsoyIiIOOjAAXONmD/+gJAQ88aPDz1kdVUiuZOCjIiIAzZvNkdizp6Fu++G5cvhnnusrkok98rSfVcTExP54YcfmDRpEpcvXwbg+PHjXLlyxanFiYi4kqVLzVsMnD0LDz4IP/2kECNiNYdHZI4cOUKTJk04evQocXFxNGzYkICAAD744APi4uKYOHFidtQpImKpadOgSxdISoLGjc05MQEBVlclIg6PyPTp04dq1apx4cIFfG9Y6enJJ5/UXbFFJMcxDPOS6hdfNEPMCy/AokUKMSKuwuERmfXr1/PTTz/h5eWVqr1kyZL8/fffTitMRMRqSUnQqxdMmGBuv/EGDB+uNWJEXInDQSY5OZmkpKQ07X/99RcB+hNFRHKIa9fMeyZ9+60ZXD77DHr2tLoqEfk3h08tNWrUiNGjR9u3bTYbV65cYfDgwTTTIgoikgOcPw8NG5ohxtsbvvlGIUbEVTk8IvPRRx/RpEkTypcvz/Xr13n22Wc5cOAAISEhfP3119lRo4jIHXP0qLlGzG+/QVCQeffqOnWsrkpEMuJwkAkPD2fXrl3MmTOHXbt2ceXKFTp37kz79u1TTf4VEXE3e/aYIeb4cbjrLli2DCpWtLoqEbkZh4JMQkIC5cqVY/HixbRv35727dtnV10iInfUmjXQqhXExECFCuaaMeHhVlclIrfi0BwZT09Prl+/nl21iIhY4ptvzLVhYmKgdm1Yv14hRsRdODzZNyoqig8++IDExMTsqEdE5I769FNo2xbi4yEy0ryTdf78VlclIpnl8ByZLVu2sHLlSlasWEGlSpXw8/NL9fiCBQucVpyISHZJTjbXhfnwQ3M7KsoMNR4e1tYlIo5xOMgEBwcTGRmZHbWIiNwR8fHmSr0zZ5rbI0bA669roTsRd+RwkJk2bVp21CEickdcvgytW8MPP0DevDB1qnnbARFxTw4HGRERd3XyJDRrBjt2gJ8fzJtnXm4tIu7L4SBTqlQpbDcZf/3jjz9uqyARkeywf795ZdKff0LhwvD991CtmtVVicjtcjjI9O3bN9V2QkICO3bsYNmyZbz66qvOqktExGl+/hmaN4dz56B0aVi+3PyviLg/h4NMnz590m0fN24cW7duve2CREScafFiaNPGvAlktWrmSEzhwlZXJSLO4vA6Mhlp2rQp8+fPd9buRERu2+efwxNPmCGmaVNYvVohRiSncVqQmTdvHgUKFHDW7kREsswwYOhQ6NIFkpKgY0dYuBD8/a2uTESczeFTS1WqVEk12dcwDE6ePMmZM2cYP368U4sTEXFUYqK5uN3kyeb2wIHw7rtaI0Ykp3I4yLRq1SpVkMmTJw+FChWibt26lCtXzqnFiYg4IjYW2rWD774zg8vYsfCf/1hdlYhkJ4eDzDvvvJMNZYiI3J5z56BlS9i4Eby94euv4cknra5KRLKbw3NkPDw8OH36dJr2c+fO4eHgTUomTJhA5cqVCQwMJDAwkIiICJYuXWp/vG7duthstlRf3bt3d7RkEcnh/vwTatUyQ0xwsLlqr0KMSO7g8IiMYRjptsfFxeHl5eXQvooVK8b7779PmTJlMAyDL7/8klatWrFjxw4qVKgAQJcuXRg6dKj9e/Lly+doySKSg+3aZV6RdOIEhIfDsmVQvrzVVYnInZLpIPPZZ58BYLPZ+Pzzz/G/Yfp/UlIS69atc3iOTMuWLVNtDxs2jAkTJrBp0yZ7kMmXLx9hYWEO7VdEcodVq8zLqy9fhooVYelSKFbM6qpE5E7KdJD55JNPAHNEZuLEialOI3l5eVGyZEkmTpyY5UKSkpKYO3cuV69eJSIiwt4+c+ZMZsyYQVhYGC1btuStt9666ahMXFwccXFx9u2YmBjAXIE4ISEhy/X9W8q+nLlPuT3qE9eS3f0xZ46NF1/0ICHBRp06ycybl0RwMKj706efD9ei/ri1zB4bm5HRuaIMPPbYYyxYsID8+fNnqbB/27NnDxEREVy/fh1/f39mzZpFs2bNAJg8eTIlSpSgaNGi7N69m9dff52HHnqIBQsWZLi/d955hyFDhqRpnzVrlk5LieQQCxeWZtq0igDUrPk3fftux8sr2eKqRMSZYmNjefbZZ7l06RKBgYEZPs/hIONs8fHxHD16lEuXLjFv3jw+//xz1q5dS/l0TnKvWrWK+vXrc/DgQUpncKOU9EZkwsPDOXv27E0PhKMSEhKIjo6mYcOGeHp6Om2/knXqE9eSHf2RnAxvvJGH0aPNEeGePZP46KNk8jhtac+cSz8frkX9cWsxMTGEhITcMsg4PNkX4K+//uK7777j6NGjxMfHp3ps1KhRDu3Ly8uLe+65B4CqVauyZcsWPv30UyZNmpTmuTVq1AC4aZDx9vbG29s7Tbunp2e2fFiya7+SdeoT1+Ks/oiLg06dzMuqAUaOhFde8cBmc+xqydxOPx+uRf2RscweF4eDzMqVK3n88ce5++67+f3336lYsSJ//vknhmHw4IMPOlzovyUnJ6caUbnRzp07AShSpMhtv46IuI+YGPNy6lWrIG9emDYNnnvO6qpExBU4HGQGDBjAK6+8wpAhQwgICGD+/PkULlyY9u3b06RJE4f31bRpU4oXL87ly5eZNWsWa9asYfny5Rw6dMg+X6ZgwYLs3r2bfv36UadOHSpXruxo2SLipk6cMC+v3rXLvFfS/PnQqJHVVYmIq3A4yPz22298/f9ju3nz5uXatWv4+/szdOhQWrVqRY8ePTK9r9OnT/PCCy9w4sQJgoKCqFy5MsuXL6dhw4YcO3aMH374gdGjR3P16lXCw8OJjIxk0KBBjpYsIm7q99+hSRM4cgRCQ2HJEnDCwK+I5CAOBxk/Pz/7vJgiRYpw6NAh+5ovZ8+edWhfU6dOzfCx8PBw1q5d62h5IpJDbNwILVrA+fNQpoy50N3dd1tdlYi4GoeDzMMPP8yGDRu47777aNasGS+//DJ79uxhwYIFPPzww9lRo4jkMt99B23bwrVr8NBDsHgxFCpkdVUi4oocDjKjRo3iypUrAAwZMoQrV64wZ84cypQp4/AVSyIi/zZlCnTvbl5q3awZfPMN+PlZXZWIuCqHgkxSUhJ//fWXfbKtn5/fba3mKyKSwjBgyBDzC+DFF2HSJPMqJRGRjDi0jJSHhweNGjXiwoUL2VWPiORCiYnQtes/Ieatt+DzzxViROTWHF4Ps2LFivzxxx/ZUYuI5EKxseYaMZ9/DnnywMSJMHQo2GxWVyYi7sDhIPPee+/xyiuvsHjxYk6cOEFMTEyqLxGRzDp7FurVMyfz+vjAggXQrZvVVYmIO3F44Dblho6PP/44thv+ZDIMA5vNRlJSkvOqE5Ec6/Bhc42Y/fuhQAFYtAhq1rS6KhFxNw4HmdWrV2dHHSKSi+zYYV6RdPIkFC9urhFz331WVyUi7sjhIPPoo49mRx0ikkv88AO0bg2XL0PlyrB0KRQtanVVIuKuHJ4jA7B+/Xqee+45atasyd9//w3AV199xYYNG5xanIjkLDNnmiMxly/DY4/BunUKMSJyexwOMvPnz6dx48b4+vqyfft2+52qL126xPDhw51eoIi4P8OAjz4y71idkADPPGOOxAQFWV2ZiLi7LF21NHHiRKZMmYKnp6e9vVatWmzfvt2pxYmI+0tOhv794dVXze1+/WDWLPD2trYuEckZHJ4js2/fPurUqZOmPSgoiIsXLzqjJhHJIRIS8vDccx7Mm2duf/QRvPyytTWJSM7icJAJCwvj4MGDlCxZMlX7hg0buFu3phWR/3fpEgwZ8jB79+bB0xOmT4dnn7W6KhHJaRw+tdSlSxf69OnDzz//jM1m4/jx48ycOZNXXnmFHj16ZEeNIuJmjh+HevXysndvIQICDJYuVYgRkezh8IjMG2+8QXJyMvXr1yc2NpY6derg7e3NK6+8Qq9evbKjRhFxI7/9Zi50d/Sojfz5r7N8uQfVq3ve+htFRLLA4SBjs9kYOHAgr776KgcPHuTKlSuUL18ef3//7KhPRNzIjz9Cy5Zw4QKUKWPwyivreeCBulaXJSI5WJbWkQHw8vIiICCAIkWKKMSICP/7HzRoYIaYhx+GtWsTCQ2NtbosEcnhHA4yiYmJvPXWWwQFBVGyZElKlixJUFAQgwYNIiEhITtqFBEXN3EiREbC9evQogWsXAkhIVZXJSK5gcOnlnr16sWCBQsYOXIkERERAGzcuJF33nmHc+fOMWHCBKcXKSKuyTDg7bfhvffM7S5dYPx4yJvXXPhORCS7ORxkZs2axezZs2natKm9rXLlyoSHh9OuXTsFGZFcIiEBuneHL74wt995xww1NpulZYlILuNwkPH29k6zhgxAqVKl8PLyckZNIuLirl6FNm1gyRLIk8c8tdSli9VViUhu5PAcmZ49e/Luu+/a77EEEBcXx7Bhw+jZs6dTixMR13PmDNSrZ4YYX19zkq9CjIhYxeERmR07drBy5UqKFSvG/fffD8CuXbuIj4+nfv36tG7d2v7cBQsWOK9SEbHcH3+Ya8QcOAAFC8LixeYVSiIiVnE4yAQHBxMZGZmqLTw83GkFiYhr2rYNmjWD06ehRAlYvhzKlrW6KhHJ7RwOMtOmTcuOOkTEha1YYV5efeUK3H8/LF0KRYpYXZWIyG0siCciucOMGdC8uRli6teHdesUYkTEdTgcZM6dO0dUVBTly5cnJCSEAgUKpPoSkZzBMGDkSHj+eUhMNG/6uGQJBAZaXZmIyD8cPrX0/PPPc/DgQTp37kxoaCg2LRohkuMkJUG/fjBmjLn98stmqMmjMVwRcTEOB5n169ezYcMG+xVLIpKzXL9ujsLMm2dujxplhhoREVfkcJApV64c165dy45aRMRiFy/CE0/A2rXg5QX//S8884zVVYmIZMzhgeLx48czcOBA1q5dy7lz54iJiUn1JSLu6a+/oHZtM8QEBsKyZQoxIuL6srSOTExMDPXq1UvVbhgGNpuNpKQkpxUnInfGL7+YC9399Zd5RdLSpeZl1iIirs7hINO+fXs8PT2ZNWuWJvuK5AAbNkDLluZppXLlzJGYEiWsrkpEJHMcDjJ79+5lx44dlNWSniJub8EC87LquDioWRO++8689YCIiLtweI5MtWrVOHbsWHbUIiJ30Lhx8NRTZohp1Qp++EEhRkTcj8MjMr169aJPnz68+uqrVKpUCU9Pz1SPV65c2WnFiYjzGQYMGgTDh5vb3brB2LGQ1+HfBiIi1nP4V9cz/38Zw4svvmhvs9lsmuwr4gYSEqBrV5g+3dx+910YOBA01U1E3JXDQebw4cPZUYeIZLMrV+Dpp83JvB4eMGkSdO5sdVUiIrfH4SBTQpcziLid06fNGz9u3Qq+vjB3rrktIuLusnTnlK+++opatWpRtGhRjhw5AsDo0aNZuHChU4sTkdt36JB5RdLWrRASAqtXK8SISM7hcJCZMGEC/fv3p1mzZly8eNE+JyY4OJjRo0c7uz4RuQ1bt0JEhBlmSpWCH3+EGjWsrkpExHkcDjJjxoxhypQpDBw4EA8PD3t7tWrV2LNnj1OLE5GsW7YM6taFM2egShX46Se4916rqxIRcS6Hg8zhw4epUqVKmnZvb2+uXr3qlKJE5PZ8+aW5Wu/Vq9CwoXn/pLAwq6sSEXE+h4NMqVKl2LlzZ5r2ZcuWcd999zmjJhHJIsOAESOgY0dITITnnoPFiyEgwOrKRESyR6aDzNChQ4mNjaV///5ERUUxZ84cDMNg8+bNDBs2jAEDBvDaa6859OITJkygcuXKBAYGEhgYSEREBEuXLrU/fv36daKioihYsCD+/v5ERkZy6tQph15DJLdISoJeveDNN83t114zR2a8vKytS0QkO2X68ushQ4bQvXt3XnrpJXx9fRk0aBCxsbE8++yzFC1alE8//ZS2bds69OLFihXj/fffp0yZMhiGwZdffkmrVq3YsWMHFSpUoF+/fnz//ffMnTuXoKAgevbsSevWrfnxxx8dfqMiOdn169C+vXnvJJsNRo+G3r2trkpEJPtlOsgYhmH///bt29O+fXtiY2O5cuUKhQsXztKLt2zZMtX2sGHDmDBhAps2baJYsWJMnTqVWbNmUa9ePQCmTZvGfffdx6ZNm3j44Yez9JoiOc2FC+a9ktavN0dfZswwF74TEckNHFoQz/avdczz5ctHvnz5nFJIUlISc+fO5erVq0RERLBt2zYSEhJo0KCB/TnlypWjePHibNy4McMgExcXR1xcnH07JiYGgISEBBISEpxSa8r+bvyvWC839smxY9CyZV5+/dVGUJDBvHlJPPqogSscgtzYH65M/eFa1B+3ltlj41CQuffee9OEmX87f/68I7tkz549REREcP36dfz9/fn2228pX748O3fuxMvLi+Dg4FTPDw0N5eTJkxnub8SIEQwZMiRN+4oVK5wWum4UHR3t9H3K7cktfXLkSABDh0Zw7pwnBQpc4+23N3L16mWWLLG6stRyS3+4C/WHa1F/ZCw2NjZTz3MoyAwZMoSgoKAsFZSRsmXLsnPnTi5dusS8efPo0KEDa9euzfL+BgwYQP/+/e3bMTExhIeH06hRIwIDA51RMmAmxejoaBo2bJjmDuBijdzUJ+vW2Xj7bQ8uXbJx330GixblpXjx2laXlUpu6g93oP5wLeqPW0s5o3IrDgWZtm3bZnk+TEa8vLy45557AKhatSpbtmzh008/5ZlnniE+Pp6LFy+mGpU5deoUYTdZEMPb2xtvb+807Z6entnyYcmu/UrW5fQ+mTfPnNgbHw+PPAILF9ooUMB1329O7w93o/5wLeqPjGX2uGT68utbnVJyluTkZOLi4qhatSqenp6sXLnS/ti+ffs4evQoERERd6QWEVczdiy0aWOGmCefhBUroEABq6sSEbFOlq5acpYBAwbQtGlTihcvzuXLl5k1axZr1qxh+fLlBAUF0blzZ/r370+BAgUIDAykV69eRERE6IolyXUMw1wf5v33ze3//Ac++wxuuEuIiEiulOkgk5yc7PQXP336NC+88AInTpwgKCiIypUrs3z5cho2bAjAJ598Qp48eYiMjCQuLo7GjRszfvx4p9ch4soSEqBzZ/jqK3N72DAYMMBcL0ZEJLdzaI6Ms02dOvWmj/v4+DBu3DjGjRt3hyoScS2XL8NTT5mnkDw84PPPzdsPiIiIydIgIyIZO3UKmjeHbdsgXz5zkm/TplZXJSLiWhRkRFzQgQPQpAn88QcUKgTffw/Vq1tdlYiI61GQEXExmzebIzFnz8Ldd8Py5fD/KxSIiMi/ZPryaxHJfkuXwmOPmSGmalX46SeFGBGRm1GQEXER06ZBy5YQGwuNG8OaNRAaanVVIiKuTUFGxGKGAe+9By++CElJ8MILsGgR+PtbXZmIiOtTkBGxUFISREXBW2+Z2wMGwPTpoBXLRUQyR5N9RSxy7Zp5z6RvvzUXt/vsM+jZ0+qqRETci4KMiAXOn4fHH4cffwRvb5g5EyIjra5KRMT9KMiI3GFHj5prxPz2GwQHw3ffQe3aVlclIuKeFGRE7qA9e8wQc/w4FCsGy5ZBhQpWVyUi4r402VfkDlmzBh55xAwxFSqYa8QoxIiI3B4FGZE74JtvzLVhYmKgTh3YsAHCw62uSkTE/SnIiGSzTz+Ftm0hPt6c0Lt8uTk3RkREbp+CjEg2SU6G116Dvn3NRe969oQ5c8DHx+rKRERyDk32FckG8fHmSr0zZ5rb779vhhqbzdq6RERyGgUZESe7fBlat4YffoC8eeGLL+D5562uSkQkZ1KQEXGikyehWTPYsQP8/GD+fHOSr4iIZA8FGREn2b/fDC1//gmFC8OSJVC1qtVViYjkbJrsK+IEP/8MNWuaIeaee8w1YhRiRESyn4KMyG1avBgeewzOnYPq1c37J5UubXVVIiK5g4KMyG34/HN44gnzTtZNm8KqVeZpJRERuTMUZESywDBg6FDo0gWSkqBTJ1i4EPz9ra5MRCR3UZARcVBiInTvDoMHm9sDB8LUqeDpaW1dIiK5ka5aEnFAbCy0awfffWcubjduHPToYXVVIiK5l4KMSCadOwctW8LGjeZtBmbNgieftLoqEZHcTUFGJBP+/BOaNIF9+yB/fli0CGrVsroqERFRkBG5hZ07zdV6T5yA8HBYtgzKl7e6KhERAU32FbmpVaugTh0zxFSqZJ5WUogREXEdCjIiGZg92zyddPky1K0L69bBXXdZXZWIiNxIQUYkHaNGmVcnJSRAmzbm6aTgYKurEhGRf1OQEblBcjK8/LL5BdCnD3z9NXh7W1uXiIikT5N9Rf5fXJy5Qu/XX5vbI0fCK6+Y68WIiIhrUpARAWJizDVhVq2CvHlh+nRo397qqkRE5FYUZCTXO37cvLx61y7zXkkLFkDDhlZXJSIimaEgI7na77+bVyYdOQKhobB0KVSpYnVVIiKSWZrsK7nWxo3m6rxHjkCZMua2QoyIiHtRkJFc6bvvoF49OH8eatSAn36CUqWsrkpERBylICO5zuTJ5sTe69eheXNYuRJCQqyuSkREskJBRnINw4DBg6FbN3O9mM6d4X//Az8/qysTEZGsUpCRXCExEbp2haFDze2334YpU8xLrUVExH3p17jkeFevQtu2sHgx5MkD48ebozIiIuL+FGQkRzt7Flq0gJ9/Bh8f80aQrVpZXZWIiDiLgozkWIcPm2vE7N8PBQrAokVQs6bVVYmIiDMpyEiOtGOHuVrvyZNQvDgsXw7lylldlYiIOJulk31HjBhB9erVCQgIoHDhwjzxxBPs27cv1XPq1q2LzWZL9dW9e3eLKhZ38MMPNurUMUNM5crmQncKMSIiOZOlQWbt2rVERUWxadMmoqOjSUhIoFGjRly9ejXV87p06cKJEyfsXyNHjrSoYnF1a9cW4/HHPbhyBR57DNatg6JFra5KRESyi6WnlpYtW5Zqe/r06RQuXJht27ZRp04de3u+fPkICwu70+WJGzEM+PjjPHzySVXAvEpp+nTw9ra2LhERyV4uNUfm0qVLABQoUCBV+8yZM5kxYwZhYWG0bNmSt956i3z58qW7j7i4OOLi4uzbMTExACQkJJCQkOC0WlP25cx9StacOwd9+3owZ44HAL16JfDhh+al1uoe6+hnxLWoP1yL+uPWMntsbIZhGNlcS6YkJyfz+OOPc/HiRTZs2GBvnzx5MiVKlKBo0aLs3r2b119/nYceeogFCxaku5933nmHIUOGpGmfNWtWhuFH3NfPP4cxYcL9XLzoQ548Bh06/EKrVoesLktERG5TbGwszz77LJcuXSIwMDDD57lMkOnRowdLly5lw4YNFCtWLMPnrVq1ivr163Pw4EFKly6d5vH0RmTCw8M5e/bsTQ+EoxISEoiOjqZhw4Z4eno6bb+SORcuQP/+HsycaU7zKlfOYNKkOC5cWK4+cRH6GXEt6g/Xov64tZiYGEJCQm4ZZFzi1FLPnj1ZvHgx69atu2mIAahRowZAhkHG29sb73QmRnh6embLhyW79isZW7zYvN3AiRPm6aNXX4V33rHh4eHBkiXqE1ej/nAt6g/Xov7IWGaPi6VBxjAMevXqxbfffsuaNWsoVarULb9n586dABQpUiSbqxNXc/Ei9O0LX35pbpcta07offhhc1unmkVEch9Lg0xUVBSzZs1i4cKFBAQEcPLkSQCCgoLw9fXl0KFDzJo1i2bNmlGwYEF2795Nv379qFOnDpUrV7aydLnDli6FLl3g77/BZoP+/eHdd8HX1+rKRETESpYGmQkTJgDmonc3mjZtGh07dsTLy4sffviB0aNHc/XqVcLDw4mMjGTQoEEWVCtWuHQJXn4Zpk41t8uUgWnToFYta+sSERHXYPmppZsJDw9n7dq1d6gacTUrVkDnzvDXX+YoTN++8N57oIvPREQkhUtM9hW5UUwMvPIKTJlibpcubY7C1K5tbV0iIuJ6LL1Fgci/rVwJlSr9E2J69YJduxRiREQkfRqREZdw5Qq89hr8/7QpSpWCL76Af02fEhERSUUjMmK51avNUZiUEBMVBbt3K8SIiMitaURGLHP1KrzxBowda26XKGGOwtSrZ21dIiLiPhRkxBLr1kGnTvDHH+Z2t27w4YcQEGBtXSIi4l50aknuqNhY8zLqunXNEBMebl5mPXGiQoyIiDhOIzJyx2zYYI7CHDxobr/0Enz8MTjxXp4iIpLLaERGst21a+bqvHXqmCHmrrtg2TLzEmuFGBERuR0akZFstXEjdOwI+/eb2506wahREBxsZVUiIpJTaERGssX16+a6MI88YoaYokXh++/Nq5IUYkRExFk0IiNO9/PP5ijM77+b2y+8AKNHQ/78VlYlIiI5kUZkxGni4mDAAKhZ0wwxYWHw3Xfw5ZcKMSIikj00IiNOsXWrOQrzyy/mdvv28NlnUKCApWWJiEgOpxEZuS1xcTBoEDz8sBliCheGb7+FGTMUYkREJPtpREaybPt2cxRmzx5zu21bGDMGQkIsLUtERHIRjciIw+LjYfBgqFHDDDGFCsG8efD11woxIiJyZ2lERhyyaxd06GD+F+Dpp2HcODPMiIiI3GkakZFMSUiAoUOhWjUzxBQsCHPmwDffKMSIiIh1NCIjt7RnjzkKs2OHud26NYwfD6Gh1tYlIiKiERnJUGIiDBsGVauaIaZAAXMezLx5CjEiIuIaNCIj6frlF/OKpK1bze1WrWDiRHOROxEREVehERlJJTERPvgAHnzQDDH588NXX5lrwyjEiIiIq9GIjNj99ps5CrN5s7ndogVMmmTe8FFERMQVaURGSEqCDz+EKlXMEBMUZN4f6bvvFGJERMS1aUQml9uyBfr0gY0bze2mTWHKFLjrLmvrEhERyQyNyORCSUnwv/9B7drw0ENmiAkMhKlT4fvvFWJERMR9aEQmF7l6FaZPh9Gj4eBBs83TE9q1g/feg/BwK6sTERFxnIJMLnD8uHkzx0mT4MIFsy1/fujRA6KiNA9GRETcl4JMDrZzJ4waBbNnm7cYALjnHujXz1yp18/P0vJERERum4JMDpOcDMuWwccfw6pV/7TXrg0vv2xeUu3hYV19IiIizqQgk0NcuwYzZpgjML//brZ5eECbNuYITPXq1tYnIiKSHRRk3Nzp0+YNHMePhzNnzLbAQOjaFXr1guLFra1PREQkOynIuKlffzVHX2bMgLg4s61ECejbF1580QwzIiIiOZ2CjBsxDFi50pz/smzZP+01apjzX558EvKqR0VEJBfRP3tuIC7OvPJo1CjYvdtss9nM4PLyy1CzprX1iYiIWEVBxoWdOwcTJ8LYsXDypNnm5wedO0Pv3lC6tLX1iYiIWE1BxgXt32+uvjt9unk1Epi3DejdG7p0MRezExEREQUZl2EYsG6defpo0SJzG8w7Ur/8Mjz9NHh5WVujiIiIq1GQsVhCAsydawaYbdv+aW/ZEvr3h0cfNefDiIiISFoKMha5eBGmTIHPPoO//jLbfHzMWwf06wdly1panoiIiFtQkLnDDh+GTz+FqVPhyhWzLTQUevaE7t0hJMTa+kRERNyJgswdsnGjefpowQLzfkgAFSuap4/atTNHY0RERMQxCjLZKCkJvv3WDDAbN/7T3qiROYG3YUPNfxEREbkdCjLZ4PJl+OIL8xTS4cNmm5cXPPecOf+lYkVr6xMREckp8lj54iNGjKB69eoEBARQuHBhnnjiCfbt25fqOdevXycqKoqCBQvi7+9PZGQkp06dsqjim/vrL3jtNQgPN+95dPgwFCwIb70FR46Y82IUYkRERJzH0iCzdu1aoqKi2LRpE9HR0SQkJNCoUSOuXr1qf06/fv1YtGgRc+fOZe3atRw/fpzWrVtbWHVa27ZB+/ZQqhR8+CFcugT33muuynv0KAwdCmFhVlcpIiKS81h6amnZjXc+BKZPn07hwoXZtm0bderU4dKlS0ydOpVZs2ZRr149AKZNm8Z9993Hpk2bePjhh60oGzAn7G7eHMaoUR6sW/dPe9265vyXZs0gj6UxUUREJOdzqTkyly5dAqBAgQIAbNu2jYSEBBo0aGB/Trly5ShevDgbN25MN8jExcURFxdn346JiQEgISGBhIQEp9SZnAwREXnYsaMGAHnzGjz9tEHfvklUqWI+JynJ/JI7J6V/ndXPcnvUH65F/eFa1B+3ltlj4zJBJjk5mb59+1KrVi0q/v9EkpMnT+Ll5UVwcHCq54aGhnIy5S6K/zJixAiGDBmSpn3FihXky5fPafXedVdF9u8Pp3HjIzRr9gchIdc5cQJOnHDaS0gWRUdHW12C3ED94VrUH65F/ZGx2NjYTD3PZYJMVFQUe/fuZcOGDbe1nwEDBtC/f3/7dkxMDOHh4TRq1IjAwMDbLdPuwQcT+PHHFTz+eD08PUs6bb+SdQkJCURHR9OwYUM8PT2tLifXU3+4FvWHa1F/3FrKGZVbcYkg07NnTxYvXsy6desoVqyYvT0sLIz4+HguXryYalTm1KlThGUwe9bb2xtvb+807Z6enk79sISFga9vktP3K7dPfeJa1B+uRf3hWtQfGcvscbF0OqphGPTs2ZNvv/2WVatWUapUqVSPV61aFU9PT1auXGlv27dvH0ePHiUiIuJOlysiIiIuxtIRmaioKGbNmsXChQsJCAiwz3sJCgrC19eXoKAgOnfuTP/+/SlQoACBgYH06tWLiIgIS69YEhEREddgaZCZMGECAHXr1k3VPm3aNDp27AjAJ598Qp48eYiMjCQuLo7GjRszfvz4O1ypiIiIuCJLg4xhGLd8jo+PD+PGjWPcuHF3oCIRERFxJ1qyTURERNyWgoyIiIi4LQUZERERcVsKMiIiIuK2FGRERETEbSnIiIiIiNtSkBERERG3pSAjIiIibktBRkRERNyWS9z9OjulrB6c2duBZ1ZCQgKxsbHExMTozqUuQn3iWtQfrkX94VrUH7eW8u/2re4CkOODzOXLlwEIDw+3uBIRERFx1OXLlwkKCsrwcZuRmRseubHk5GSOHz9OQEAANpvNafuNiYkhPDycY8eOERgY6LT9StapT1yL+sO1qD9ci/rj1gzD4PLlyxQtWpQ8eTKeCZPjR2Ty5MlDsWLFsm3/gYGB+hC6GPWJa1F/uBb1h2tRf9zczUZiUmiyr4iIiLgtBRkRERFxWwoyWeTt7c3gwYPx9va2uhT5f+oT16L+cC3qD9ei/nCeHD/ZV0RERHIujciIiIiI21KQEREREbelICMiIiJuS0FGRERE3JaCTBaNGzeOkiVL4uPjQ40aNdi8ebPVJeVKI0aMoHr16gQEBFC4cGGeeOIJ9u3bZ3VZ8v/ef/99bDYbffv2tbqUXOvvv//mueeeo2DBgvj6+lKpUiW2bt1qdVm5VlJSEm+99RalSpXC19eX0qVL8+67797yfkKSMQWZLJgzZw79+/dn8ODBbN++nfvvv5/GjRtz+vRpq0vLddauXUtUVBSbNm0iOjqahIQEGjVqxNWrV60uLdfbsmULkyZNonLlylaXkmtduHCBWrVq4enpydKlS/n111/5+OOPyZ8/v9Wl5VoffPABEyZMYOzYsfz222988MEHjBw5kjFjxlhdmtvS5ddZUKNGDapXr87YsWMB835O4eHh9OrVizfeeMPi6nK3M2fOULhwYdauXUudOnWsLifXunLlCg8++CDjx4/nvffe44EHHmD06NFWl5XrvPHGG/z444+sX7/e6lLk/7Vo0YLQ0FCmTp1qb4uMjMTX15cZM2ZYWJn70oiMg+Lj49m2bRsNGjSwt+XJk4cGDRqwceNGCysTgEuXLgFQoEABiyvJ3aKiomjevHmqnxO587777juqVavG008/TeHChalSpQpTpkyxuqxcrWbNmqxcuZL9+/cDsGvXLjZs2EDTpk0trsx95fibRjrb2bNnSUpKIjQ0NFV7aGgov//+u0VVCZgjY3379qVWrVpUrFjR6nJyrdmzZ7N9+3a2bNlidSm53h9//MGECRPo378/b775Jlu2bKF37954eXnRoUMHq8vLld544w1iYmIoV64cHh4eJCUlMWzYMNq3b291aW5LQUZyjKioKPbu3cuGDRusLiXXOnbsGH369CE6OhofHx+ry8n1kpOTqVatGsOHDwegSpUq7N27l4kTJyrIWOSbb75h5syZzJo1iwoVKrBz50769u1L0aJF1SdZpCDjoJCQEDw8PDh16lSq9lOnThEWFmZRVdKzZ08WL17MunXrKFasmNXl5Frbtm3j9OnTPPjgg/a2pKQk1q1bx9ixY4mLi8PDw8PCCnOXIkWKUL58+VRt9913H/Pnz7eoInn11Vd54403aNu2LQCVKlXiyJEjjBgxQkEmizRHxkFeXl5UrVqVlStX2tuSk5NZuXIlERERFlaWOxmGQc+ePfn2229ZtWoVpUqVsrqkXK1+/frs2bOHnTt32r+qVatG+/bt2blzp0LMHVarVq00yxHs37+fEiVKWFSRxMbGkidP6n96PTw8SE5Otqgi96cRmSzo378/HTp0oFq1ajz00EOMHj2aq1ev0qlTJ6tLy3WioqKYNWsWCxcuJCAggJMnTwIQFBSEr6+vxdXlPgEBAWnmJ/n5+VGwYEHNW7JAv379qFmzJsOHD6dNmzZs3ryZyZMnM3nyZKtLy7VatmzJsGHDKF68OBUqVGDHjh2MGjWKF1980erS3JchWTJmzBijePHihpeXl/HQQw8ZmzZtsrqkXAlI92vatGlWlyb/79FHHzX69OljdRm51qJFi4yKFSsa3t7eRrly5YzJkydbXVKuFhMTY/Tp08coXry44ePjY9x9993GwIEDjbi4OKtLc1taR0ZERETclubIiIiIiNtSkBERERG3pSAjIiIibktBRkRERNyWgoyIiIi4LQUZERERcVsKMiIiIuK2FGRERETEbSnIiMgd17FjR5544gnLXv/555+33xH6Vtq2bcvHH3+czRWJSFZpZV8RcSqbzXbTxwcPHky/fv0wDIPg4OA7U9QNdu3aRb169Thy5Aj+/v63fP7evXupU6cOhw8fJigo6A5UKCKOUJAREadKuXEnwJw5c3j77bdT3YHZ398/UwEiu7z00kvkzZuXiRMnZvp7qlevTseOHYmKisrGykQkK3RqSUScKiwszP4VFBSEzWZL1ebv75/m1FLdunXp1asXffv2JX/+/ISGhjJlyhT7XeUDAgK45557WLp0aarX2rt3L02bNsXf35/Q0FCef/55zp49m2FtSUlJzJs3j5YtW6ZqHz9+PGXKlMHHx4fQ0FCeeuqpVI+3bNmS2bNn3/7BERGnU5AREZfw5ZdfEhISwubNm+nVqxc9evTg6aefpmbNmmzfvp1GjRrx/PPPExsbC8DFixepV68eVapUYevWrSxbtoxTp07Rpk2bDF9j9+7dXLp0iWrVqtnbtm7dSu/evRk6dCj79u1j2bJl1KlTJ9X3PfTQQ2zevJm4uLjsefMikmUKMiLiEu6//34GDRpEmTJlGDBgAD4+PoSEhNClSxfKlCnD22+/zblz59i9ezcAY8eOpUqVKgwfPpxy5cpRpUoVvvjiC1avXs3+/fvTfY0jR47g4eFB4cKF7W1Hjx7Fz8+PFi1aUKJECapUqULv3r1TfV/RokWJj49PddpMRFyDgoyIuITKlSvb/9/Dw4OCBQtSqVIle1toaCgAp0+fBsxJu6tXr7bPufH396dcuXIAHDp0KN3XuHbtGt7e3qkmJDds2JASJUpw99138/zzzzNz5kz7qE8KX19fgDTtImI9BRkRcQmenp6ptm02W6q2lPCRnJwMwJUrV2jZsiU7d+5M9XXgwIE0p4ZShISEEBsbS3x8vL0tICCA7du38/XXX1OkSBHefvtt7r//fi5evGh/zvnz5wEoVKiQU96riDiPgoyIuKUHH3yQX375hZIlS3LPPfek+vLz80v3ex544AEAfv3111TtefPmpUGDBowcOZLdu3fz559/smrVKvvje/fupVixYoSEhGTb+xGRrFGQERG3FBUVxfnz52nXrh1btmzh0KFDLF++nE6dOpGUlJTu9xQqVIgHH3yQDRs22NsWL17MZ599xs6dOzly5Aj//e9/SU5OpmzZsvbnrF+/nkaNGmX7exIRxynIiIhbKlq0KD/++CNJSUk0atSISpUq0bdvX4KDg8mTJ+NfbS+99BIzZ860bwcHB7NgwQLq1avHfffdx8SJE/n666+pUKECANevX+d///sfXbp0yfb3JCKO04J4IpKrXLt2jbJlyzJnzhwiIiJu+fwJEybw7bffsmLFijtQnYg4SiMyIpKr+Pr68t///vemC+fdyNPTkzFjxmRzVSKSVRqREREREbelERkRERFxWwoyIiIi4rYUZERERMRtKciIiIiI21KQEREREbelICMiIiJuS0FGRERE3JaCjIiIiLgtBRkRERFxW/8Hx1aKwZBvc94AAAAASUVORK5CYII=",
>>>>>>> ce19859 (CAT 1)
      "text/plain": [
       "<Figure size 640x480 with 1 Axes>"
      ]
     },
     "metadata": {},
     "output_type": "display_data"
    }
   ],
   "source": [
    "import pandas as pd\n",
    "import matplotlib.pyplot as plt\n",
    "\n",
    "# Read the data from the CSV file\n",
    "data = pd.read_csv('data.csv')\n",
    "\n",
    "# Plotting the graph\n",
    "plt.plot(data['Time (s)'], data['Temperature (°C)'], label='Temperature vs Time', color='b')\n",
    "\n",
    "# Adding labels and title\n",
    "plt.xlabel('Time (s)')\n",
    "plt.ylabel('Temperature (°C)')\n",
    "plt.title('Heat Transfer Process: Temperature vs Time')\n",
    "\n",
    "# Adding a grid\n",
    "plt.grid(True)\n",
    "\n",
    "# Display the plot\n",
    "plt.show()\n"
   ]
  },
  {
   "cell_type": "markdown",
<<<<<<< HEAD
   "id": "ab44fdc5",
   "metadata": {},
   "source": [
    "b) Based on your graph, explain any two observations you can make about the heating \n",
    "process (e.g., steady state, rate of change).   "
=======
   "id": "68f24498",
   "metadata": {},
   "source": [
    "b) Based on your graph, explain any two observations you can make about the heating \n",
    "process (e.g., steady state, rate of change).    "
>>>>>>> ce19859 (CAT 1)
   ]
  },
  {
   "cell_type": "markdown",
<<<<<<< HEAD
   "id": "6298d0ca",
   "metadata": {},
   "source": [
    "1. Approach to Steady State:\n",
    "As time progresses, the temperature might approach a certain value and stabilize. This indicates that the system is nearing a steady state, where the rate of heat transfer into the object equals the rate of heat loss, causing the temperature to no longer increase significantly.\n",
    "\n",
    "Observation: The graph may show a curve where the temperature gradually levels off, indicating that the system has reached thermal equilibrium.\n",
    "\n",
    "2. Rate of Change:\n",
    "Initially, the temperature may increase at a faster rate, but as the system approaches the steady state, the rate of change of temperature (i.e., the slope of the graph) may slow down. This is typical in heat transfer processes where the temperature rise is faster at the beginning, and it slows down as the system approaches its final temperature.\n",
    "\n",
    "Observation: The graph could show a steeper slope initially, which flattens out over time, reflecting that the rate of temperature increase diminishes as the system heats up."
=======
   "id": "33af5d60",
   "metadata": {},
   "source": [
    "1.Approach to Steady State:\n",
    "As time progresses, the temperature might approach a certain value and stabilize. This indicates that the system is nearing a steady state, where the rate of heat transfer into the object equals the rate of heat loss, causing the temperature to no longer increase significantly.\n",
    "\n",
    "2.Rate of Change:\n",
    "Initially, the temperature may increase at a faster rate, but as the system approaches the steady state, the rate of change of temperature (i.e., the slope of the graph) may slow down. This is typical in heat transfer processes where the temperature rise is faster at the beginning, and it slows down as the system approaches its final temperature."
>>>>>>> ce19859 (CAT 1)
   ]
  },
  {
   "cell_type": "markdown",
<<<<<<< HEAD
   "id": "f0fa2e96",
   "metadata": {},
   "source": [
    "c) Describe a situation in engineering where such visualization can be used to influence\n",
    "decision-making.\n"
=======
   "id": "03f85168",
   "metadata": {},
   "source": [
    "c) Describe a situation in engineering where such visualization can be used to influence \n",
    "decision-making. "
>>>>>>> ce19859 (CAT 1)
   ]
  },
  {
   "cell_type": "markdown",
<<<<<<< HEAD
   "id": "53b92448",
=======
   "id": "42d1073f",
>>>>>>> ce19859 (CAT 1)
   "metadata": {},
   "source": [
    "In electronics cooling design, a Temperature vs. Time graph can help engineers:\n",
    "\n",
<<<<<<< HEAD
    "Optimize Cooling Systems: If the temperature rises too quickly, the graph prompts decisions to improve cooling, such as upgrading heatsinks or airflow.\n",
    "\n",
    "Ensure Component Longevity: If the system takes too long to stabilize or reaches high temperatures, engineers might redesign cooling solutions to prevent overheating and extend the life of components."
=======
    "1.Optimize Cooling Systems: If the temperature rises too quickly, the graph prompts decisions to improve cooling, such as upgrading heatsinks or airflow.\n",
    "\n",
    "2.Ensure Component Longevity: If the system takes too long to stabilize or reaches high temperatures, engineers might redesign cooling solutions to prevent overheating and extend the life of components.\n",
    "\n",
    "This visualization supports data-driven decisions to improve performance and durability."
>>>>>>> ce19859 (CAT 1)
   ]
  },
  {
   "cell_type": "markdown",
<<<<<<< HEAD
   "id": "03a4e127",
   "metadata": {},
   "source": [
    "Question 4: ODE Simulation of Real System (20 marks)\n",
    "You are simulating population growth using the differential equation dy/dt = 0.5y, where\n",
    "y(0) = 100.\n",
    "a) Use Euler’s Method to approximate the population size after 4 time steps with step size\n",
    "h = 0.5. Show all computations.\n"
=======
   "id": "7f0af6f0",
   "metadata": {},
   "source": [
    "Question 4\n",
    "\n",
    "You are simulating population growth using the differential equation dy/dt = 0.5y, where \n",
    "y(0) = 100. \n",
    "a) Use Euler’s Method to approximate the population size after 4 time steps with step size \n",
    "h = 0.5. Show all computations.  "
>>>>>>> ce19859 (CAT 1)
   ]
  },
  {
   "cell_type": "code",
<<<<<<< HEAD
   "execution_count": 23,
   "id": "ac0bd249",
=======
   "execution_count": 19,
   "id": "299eec82",
>>>>>>> ce19859 (CAT 1)
   "metadata": {},
   "outputs": [
    {
     "name": "stdout",
     "output_type": "stream",
     "text": [
      "Time Step | Population Size\n",
      "      0.0  |    100.000000\n",
      "      0.5  |    125.000000\n",
      "      1.0  |    156.250000\n",
      "      1.5  |    195.312500\n",
      "      2.0  |    244.140625\n"
     ]
    }
   ],
   "source": [
<<<<<<< HEAD
    "# Function to calculate the next value using Euler's method\n",
=======
>>>>>>> ce19859 (CAT 1)
    "def euler_method(dy_dt, y0, h, steps):\n",
    "    y = y0\n",
    "    results = [(0, y)]  # Store initial time and value\n",
    "    for i in range(steps):\n",
    "        y += h * dy_dt(y)  # Euler's method update\n",
    "        results.append((i+1, y))  # Store the result at each step\n",
    "    return results\n",
    "\n",
    "# Differential equation dy/dt = 0.5y\n",
    "def dy_dt(y):\n",
    "    return 0.5 * y\n",
    "\n",
    "# Initial conditions\n",
    "y0 = 100\n",
    "h = 0.5\n",
    "steps = 4\n",
    "\n",
    "# Apply Euler's method\n",
    "results = euler_method(dy_dt, y0, h, steps)\n",
    "\n",
<<<<<<< HEAD
    "# Print the results\n",
=======
>>>>>>> ce19859 (CAT 1)
    "print(\"Time Step | Population Size\")\n",
    "for t, y in results:\n",
    "    print(f\"   {t*0.5:6.1f}  |    {y:.6f}\")\n"
   ]
  },
  {
   "cell_type": "markdown",
<<<<<<< HEAD
   "id": "6c733aa3",
   "metadata": {},
   "source": [
    "b) Write a Python function that generalizes the Euler’s method to solve any first-order\n",
    "ODE given f(t, y), initial condition, step size, and number of steps.\n"
=======
   "id": "76967e65",
   "metadata": {},
   "source": [
    "b) Write a Python function that generalizes the Euler’s method to solve any first-order \n",
    "ODE given f(t, y), initial condition, step size, and number of steps. "
>>>>>>> ce19859 (CAT 1)
   ]
  },
  {
   "cell_type": "code",
<<<<<<< HEAD
   "execution_count": 22,
   "id": "7c5f68b8",
=======
   "execution_count": 20,
   "id": "378e5017",
>>>>>>> ce19859 (CAT 1)
   "metadata": {},
   "outputs": [
    {
     "name": "stdout",
     "output_type": "stream",
     "text": [
      "Time Step | Population Size\n",
      "      0.0  |    100.000000\n",
      "      0.5  |    125.000000\n",
      "      1.0  |    156.250000\n",
      "      1.5  |    195.312500\n",
      "      2.0  |    244.140625\n"
     ]
    }
   ],
   "source": [
<<<<<<< HEAD
    "# Generalized Euler's Method to solve any first-order ODE\n",
    "def euler_method_general(f, y0, t0, h, steps):\n",
    "    t = t0\n",
    "    y = y0\n",
    "    results = [(t, y)]  # Store initial time and value\n",
    "\n",
    "    for _ in range(steps):\n",
    "        y += h * f(t, y)  # Euler's method update\n",
=======
    "#Euler's Method to solve any first-order ODE\n",
    "def euler_method_general(f, y0, t0, h, steps):\n",
    "    t = t0\n",
    "    y = y0\n",
    "    results = [(t, y)] \n",
    "\n",
    "    for _ in range(steps):\n",
    "        y += h * f(t, y)  \n",
>>>>>>> ce19859 (CAT 1)
    "        t += h  # Increment time\n",
    "        results.append((t, y))  # Store the result at each step\n",
    "\n",
    "    return results\n",
    "\n",
<<<<<<< HEAD
    "# Example usage:\n",
    "# Define the ODE: dy/dt = 0.5 * y\n",
    "def f(t, y):\n",
    "    return 0.5 * y\n",
    "\n",
    "# Initial conditions\n",
=======
    "def f(t, y):\n",
    "    return 0.5 * y\n",
    "\n",
>>>>>>> ce19859 (CAT 1)
    "y0 = 100  # Initial population size\n",
    "t0 = 0    # Initial time\n",
    "h = 0.5   # Step size\n",
    "steps = 4 # Number of steps\n",
    "\n",
    "# Apply Euler's method\n",
    "results = euler_method_general(f, y0, t0, h, steps)\n",
    "\n",
<<<<<<< HEAD
    "# Print the results\n",
=======
>>>>>>> ce19859 (CAT 1)
    "print(\"Time Step | Population Size\")\n",
    "for t, y in results:\n",
    "    print(f\"   {t:6.1f}  |    {y:.6f}\")\n"
   ]
  },
  {
   "cell_type": "markdown",
<<<<<<< HEAD
   "id": "d0793366",
   "metadata": {},
   "source": [
    "c) Briefly explain two limitations of using Euler’s Method for real-world systems, and\n",
    "suggest one alternative method.\n"
=======
   "id": "87a80ca2",
   "metadata": {},
   "source": [
    "c) Briefly explain two limitations of using Euler’s Method for real-world systems, and \n",
    "suggest one alternative method.  "
>>>>>>> ce19859 (CAT 1)
   ]
  },
  {
   "cell_type": "markdown",
<<<<<<< HEAD
   "id": "e665ce48",
   "metadata": {},
   "source": [
    "Limitations of Euler’s Method:\n",
    "Inaccuracy for Large Step Sizes:\n",
    "\n",
    "Euler’s method can be inaccurate when the step size \n",
    "ℎ\n",
    "h is large. The method approximates the solution with linear steps, which can lead to significant errors, especially for stiff or highly nonlinear systems. As the step size increases, the errors accumulate and can cause the solution to deviate considerably from the true behavior.\n",
    "\n",
    "Instability in Stiff Equations:\n",
    "\n",
=======
   "id": "6f9cad4c",
   "metadata": {},
   "source": [
    "Limitations of Euler’s Method:\n",
    "\n",
    "1.Inaccuracy for Large Step Sizes:\n",
    "Euler’s method can be inaccurate when the step size ℎ is large. The method approximates the solution with linear steps, which can lead to significant errors, especially for stiff or highly nonlinear systems. As the step size increases, the errors accumulate and can cause the solution to deviate considerably from the true behavior.\n",
    "\n",
    "2.Instability in Stiff Equations:\n",
>>>>>>> ce19859 (CAT 1)
    "Euler's method can become unstable for certain stiff differential equations, where there are rapidly changing and slowly changing components. The method may not capture the behavior accurately, leading to divergence or oscillations in the numerical solution.\n",
    "\n",
    "Suggested Alternative Method:\n",
    "Runge-Kutta Method (RK4):\n",
    "\n",
    "The Runge-Kutta method (specifically the 4th-order method, RK4) is a more accurate and stable alternative to Euler’s method. It uses multiple intermediate points to estimate the solution, providing better precision with the same step size. It is widely used in real-world systems because it balances accuracy and computational efficiency."
   ]
  }
 ],
 "metadata": {
  "kernelspec": {
<<<<<<< HEAD
   "display_name": "data_manipulation-kihLXR14",
=======
   "display_name": "cat-DvnkmqK3",
>>>>>>> ce19859 (CAT 1)
   "language": "python",
   "name": "python3"
  },
  "language_info": {
   "codemirror_mode": {
    "name": "ipython",
    "version": 3
   },
   "file_extension": ".py",
   "mimetype": "text/x-python",
   "name": "python",
   "nbconvert_exporter": "python",
   "pygments_lexer": "ipython3",
   "version": "3.10.12"
  }
 },
 "nbformat": 4,
 "nbformat_minor": 5
}
