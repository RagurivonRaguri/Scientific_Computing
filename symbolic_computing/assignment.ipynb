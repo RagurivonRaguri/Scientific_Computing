{
 "cells": [
  {
   "cell_type": "markdown",
   "metadata": {},
   "source": [
    "A machine learning model at JKUAT is trained using the loss function:\n",
    "\n",
    "L(x) = 3x^2 + 2x - 5\n",
    "Task:\n",
    "\n",
    "Compute the symbolic derivative of L(x)L(x) to find the gradient.\n",
    "Solve for xx when the gradient is zero (optimal solution).\n",
    "Use second derivatives to check if it is a minimum or maximum."
   ]
  },
  {
   "cell_type": "code",
   "execution_count": 8,
   "metadata": {},
   "outputs": [
    {
     "name": "stdout",
     "output_type": "stream",
     "text": [
      "the gradient is :  6*x + 2\n"
     ]
    }
   ],
   "source": [
    "from sympy import symbols, diff, solve\n",
    "\n",
    "x,y = symbols('x y')\n",
    "expre=3*(x**2)+2*x-5\n",
    "diff_expre=diff(expre)\n",
    "print(\"the gradient is : \",diff_expre)\n"
   ]
  },
  {
   "cell_type": "code",
   "execution_count": 9,
   "metadata": {},
   "outputs": [
    {
     "name": "stdout",
     "output_type": "stream",
     "text": [
      "the optimal solution is : [-1/3]\n"
     ]
    }
   ],
   "source": [
    "\n",
    "optimal_solution=solve(diff_expre)\n",
    "print(\"the optimal solution is :\", optimal_solution)"
   ]
  },
  {
   "cell_type": "code",
   "execution_count": 10,
   "metadata": {},
   "outputs": [
    {
     "name": "stdout",
     "output_type": "stream",
     "text": [
      "It is minimum\n"
     ]
    }
   ],
   "source": [
    "second_diff=diff(diff_expre)\n",
    "if second_diff>0:\n",
    "    print(\"It is minimum\")\n",
    "else:\n",
    "    print(\"It is maximum\")"
   ]
  },
  {
   "cell_type": "markdown",
   "metadata": {},
   "source": [
    "In AI applications, dimensionality reduction is done using eigenvalues of matrices. Given a feature matrix:\n",
    "\n",
    "A =  [2  1 1  3]\n",
    "Task:\n",
    "\n",
    "Compute the symbolic determinant of AA.\n",
    "Find the eigenvalues of AA using symbolic computation.\n",
    "Verify that the eigenvalues satisfy the characteristic equation."
   ]
  },
  {
   "cell_type": "code",
   "execution_count": 11,
   "metadata": {},
   "outputs": [
    {
     "name": "stdout",
     "output_type": "stream",
     "text": [
      "the determinant of A is :  5\n"
     ]
    }
   ],
   "source": [
    "from sympy import symbols, simplify, diff, solve,det,Matrix\n",
    "\n",
    "A_data = [[2, 1], [1, 3]]\n",
    "A = Matrix(A_data)\n",
    "determinant_A= det(A)\n",
    "print(\"the determinant of A is : \", determinant_A)"
   ]
  },
  {
   "cell_type": "code",
   "execution_count": 12,
   "metadata": {},
   "outputs": [
    {
     "name": "stdout",
     "output_type": "stream",
     "text": [
      "the eigenvalues are :  [5/2 - sqrt(5)/2, sqrt(5)/2 + 5/2]\n"
     ]
    }
   ],
   "source": [
    "lambda_symbol = symbols('lambda')\n",
    "identity_matrix = Matrix.eye(A.rows)\n",
    "characteristic_equation = det(A - lambda_symbol * identity_matrix)\n",
    "eigenvalues = solve(characteristic_equation, lambda_symbol)\n",
    "print(\"the eigenvalues are : \", eigenvalues)"
   ]
  },
  {
   "cell_type": "code",
   "execution_count": 13,
   "metadata": {},
   "outputs": [
    {
     "name": "stdout",
     "output_type": "stream",
     "text": [
      "The eigenvalues are correct\n"
     ]
    }
   ],
   "source": [
    "lambda_symbol = symbols('lambda')\n",
    "identity_matrix = Matrix.eye(A.rows)\n",
    "characteristic_equation = det(A - lambda_symbol * identity_matrix)\n",
    "verified = True\n",
    "for eigenvalue in eigenvalues:\n",
    "    result = characteristic_equation.subs(lambda_symbol, eigenvalue)\n",
    "    if simplify(result) != 0:\n",
    "        verified = False\n",
    "        break\n",
    "if verified:\n",
    "    print(\"The eigenvalues are correct\")\n",
    "else:\n",
    "    print(\"The eigenvalues are incorrect\")"
   ]
  },
  {
   "cell_type": "markdown",
   "metadata": {},
   "source": [
    "\n",
    "In a control system, the Laplace Transform of the system equation is:\n",
    "\n",
    "H(s) = \\frac{1}{s^2 + 3s + 2}\n",
    "\n",
    "Task:\n",
    "\n",
    "Factor the denominator symbolically.\n",
    "Compute the inverse Laplace Transform to find h(t)h(t).\n",
    "Find the poles of the system."
   ]
  },
  {
   "cell_type": "code",
   "execution_count": 14,
   "metadata": {},
   "outputs": [
    {
     "name": "stdout",
     "output_type": "stream",
     "text": [
      "Factors of the denominator: [-2, -1]\n"
     ]
    }
   ],
   "source": [
    "from sympy import symbols, inverse_laplace_transform, apart, solve\n",
    "\n",
    "s, t = symbols('s t')\n",
    "H_s = 1 / (s**2 + 3*s + 2)\n",
    "denominator = s**2 + 3*s + 2\n",
    "factors = solve(denominator, s)\n",
    "print(\"Factors of the denominator:\", factors)"
   ]
  },
  {
   "cell_type": "code",
   "execution_count": 15,
   "metadata": {},
   "outputs": [
    {
     "name": "stdout",
     "output_type": "stream",
     "text": [
      "Inverse Laplace Transform h(t): exp(-t)*Heaviside(t) - exp(-2*t)*Heaviside(t)\n"
     ]
    }
   ],
   "source": [
    "\n",
    "h_t = inverse_laplace_transform(H_s, s, t)\n",
    "print(\"Inverse Laplace Transform h(t):\", h_t)"
   ]
  },
  {
   "cell_type": "code",
   "execution_count": 16,
   "metadata": {},
   "outputs": [
    {
     "name": "stdout",
     "output_type": "stream",
     "text": [
      "Poles of the system: [-2, -1]\n"
     ]
    }
   ],
   "source": [
    "poles = solve(s**2 + 3*s + 2, s)\n",
    "print(\"Poles of the system:\", poles)"
   ]
  },
  {
   "cell_type": "markdown",
   "metadata": {},
   "source": [
    "A startup incubator at JKUAT is optimizing the cost function:\n",
    "\n",
    "C(x) = 5x^3 - 10x^2 + 4x + 3\n",
    "\n",
    "where xx is the number of AI startups funded.\n",
    "\n",
    "Task:\n",
    "\n",
    "    Find the symbolic derivative of C(x)C(x).\n",
    "    Solve for xx when the cost is minimized.\n",
    "    Interpret the result for decision-making."
   ]
  },
  {
   "cell_type": "code",
   "execution_count": 17,
   "metadata": {},
   "outputs": [
    {
     "name": "stdout",
     "output_type": "stream",
     "text": [
      "the symbolic derivative of the cost function is :  15*x**2 - 20*x + 4\n"
     ]
    }
   ],
   "source": [
    "from sympy import symbols, diff, solve\n",
    "\n",
    "x = symbols('x')\n",
    "cost_function=5*(x)**3 -10*(x)**2 + 4*x + 3\n",
    "deriv_costfunc=diff(cost_function)\n",
    "print(\"the symbolic derivative of the cost function is : \",deriv_costfunc)"
   ]
  },
  {
   "cell_type": "markdown",
   "metadata": {},
   "source": [
    "JKUAT cybersecurity researchers are designing a public key encryption system using prime numbers. The encryption follows the equation:\n",
    "\n",
    "C=P^e \\mod N\n",
    "\n",
    "where C is the ciphertext, P is the plaintext , e is the encryption key, and N is the public modulus.\n",
    "\n",
    "Task: Define a symbolic function for the encryption process. Compute the modular inverse of P to decrypt the message. If P =7, e=3 and N=33 find C."
   ]
  },
  {
   "cell_type": "code",
   "execution_count": 3,
   "metadata": {},
   "outputs": [
    {
     "name": "stdout",
     "output_type": "stream",
     "text": [
      "the modular inverse of P is :  19\n"
     ]
    }
   ],
   "source": [
    "from sympy import symbols, Mod, mod_inverse\n",
    "\n",
    "P, e, N = symbols('P e N', integer=True)\n",
    "P=7\n",
    "e=3\n",
    "N=33\n",
    "\n",
    "def encrypt(P, e, N):\n",
    "    return Mod(P**e, N)\n",
    "\n",
    "eqn_inverse=mod_inverse(P, N)\n",
    "print(\"the modular inverse of P is : \", eqn_inverse)"
   ]
  }
 ],
 "metadata": {
  "kernelspec": {
   "display_name": "symbolic_computing-ERCJgZkr",
   "language": "python",
   "name": "python3"
  },
  "language_info": {
   "codemirror_mode": {
    "name": "ipython",
    "version": 3
   },
   "file_extension": ".py",
   "mimetype": "text/x-python",
   "name": "python",
   "nbconvert_exporter": "python",
   "pygments_lexer": "ipython3",
   "version": "3.10.12"
  }
 },
 "nbformat": 4,
 "nbformat_minor": 2
}
